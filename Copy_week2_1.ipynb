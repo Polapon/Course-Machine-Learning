{
 "cells": [
  {
   "cell_type": "code",
   "execution_count": 3,
   "metadata": {
    "collapsed": true
   },
   "outputs": [],
   "source": [
    "import pandas as pd\n",
    "import numpy as np\n",
    "from sklearn import preprocessing, cross_validation\n",
    "from sklearn.cross_validation import KFold\n",
    "from sklearn.neighbors import KNeighborsClassifier\n",
    "from sklearn.ensemble import RandomForestClassifier\n",
    "from sklearn.linear_model import LogisticRegression\n",
    "from sklearn.metrics import roc_curve, auc\n",
    "import pylab as pl"
   ]
  },
  {
   "cell_type": "code",
   "execution_count": 4,
   "metadata": {
    "collapsed": true
   },
   "outputs": [],
   "source": [
    "data = pd.read_csv('data/wine.data', header=None)\n",
    "cls = data[0]\n",
    "att = data.drop([0], axis=1)\n",
    "len(cls)\n",
    "scores = list()\n",
    "scores_std = list()"
   ]
  },
  {
   "cell_type": "code",
   "execution_count": 5,
   "metadata": {
    "collapsed": false
   },
   "outputs": [
    {
     "data": {
      "text/plain": [
       "(1, 0.7304761904761905)"
      ]
     },
     "execution_count": 5,
     "metadata": {},
     "output_type": "execute_result"
    }
   ],
   "source": [
    "kfold = KFold(len(cls), n_folds=5, shuffle=True, random_state=42)\n",
    "knc = KNeighborsClassifier()\n",
    "for i in range(1,51):\n",
    "    knc.n_neighbors = i\n",
    "    i_scores = cross_validation.cross_val_score(knc, att, cls, cv = kfold, scoring = 'accuracy')\n",
    "    scores.append(np.mean(i_scores))\n",
    "    scores_std.append(np.std(i_scores))\n",
    "np.argmax(scores)+1, scores[np.argmax(scores)]"
   ]
  },
  {
   "cell_type": "code",
   "execution_count": 6,
   "metadata": {
    "collapsed": false
   },
   "outputs": [
    {
     "data": {
      "text/plain": [
       "(29, 0.9776190476190475)"
      ]
     },
     "execution_count": 6,
     "metadata": {},
     "output_type": "execute_result"
    }
   ],
   "source": [
    "att_scale = preprocessing.scale(att)\n",
    "scores_scale = list()\n",
    "\n",
    "for k in range (1,51):\n",
    "    knc.n_neighbors = k\n",
    "    i_scores_scale = cross_validation.cross_val_score(knc, att_scale, cls, cv = kfold, scoring = 'accuracy')\n",
    "    scores_scale.append(np.mean(i_scores_scale))\n",
    "#    scores_std.append(np.std(i_scores))\n",
    "np.argmax(scores_scale)+1, scores_scale[np.argmax(scores_scale)]"
   ]
  },
  {
   "cell_type": "code",
   "execution_count": null,
   "metadata": {
    "collapsed": false
   },
   "outputs": [],
   "source": []
  }
 ],
 "metadata": {
  "anaconda-cloud": {},
  "kernelspec": {
   "display_name": "Python [default]",
   "language": "python",
   "name": "python3"
  },
  "language_info": {
   "codemirror_mode": {
    "name": "ipython",
    "version": 3
   },
   "file_extension": ".py",
   "mimetype": "text/x-python",
   "name": "python",
   "nbconvert_exporter": "python",
   "pygments_lexer": "ipython3",
   "version": "3.5.2"
  }
 },
 "nbformat": 4,
 "nbformat_minor": 0
}
