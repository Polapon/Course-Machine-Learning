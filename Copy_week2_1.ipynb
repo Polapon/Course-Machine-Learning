{
 "metadata": {
  "name": "",
  "signature": "sha256:9722649fac6d7b9f4090191c5f464bedff6d268f4b3f524c3b7c74b91500e01c"
 },
 "nbformat": 3,
 "nbformat_minor": 0,
 "worksheets": [
  {
   "cells": [
    {
     "cell_type": "code",
     "collapsed": false,
     "input": [
      "import pandas as pd\n",
      "import numpy as np\n",
      "from sklearn import preprocessing\n",
      "from sklearn.cross_validation import KFold\n",
      "from sklearn.neighbors import KNeighborsClassifier\n",
      "from sklearn.ensemble import RandomForestClassifier\n",
      "from sklearn.linear_model import LogisticRegression\n",
      "from sklearn.metrics import roc_curve, auc\n",
      "import pylab as pl\n",
      "\n",
      "data = pd.read_csv('wine.data', header=None)\n",
      "cls = data[0]\n",
      "att = data.drop([0], axis=1)\n",
      "len(cls)\n",
      "scores = list()\n",
      "scores_std = list()\n",
      "\n",
      "kfold = KFold(len(cls), n_folds=5, shuffle=True, random_state=42)\n",
      "knc = KNeighborsClassifier()\n",
      "for i in range(1,51):\n",
      "    knc.n_neighbors = i\n",
      "    i_scores = cross_validation.cross_val_score(knc, att, cls, cv = kfold, scoring = 'accuracy')\n",
      "    scores.append(np.mean(i_scores))\n",
      "    scores_std.append(np.std(i_scores))\n",
      "np.argmax(scores)+1, scores[np.argmax(scores)]"
     ],
     "language": "python",
     "metadata": {},
     "outputs": [
      {
       "metadata": {},
       "output_type": "pyout",
       "prompt_number": 10,
       "text": [
        "(1, 0.7304761904761905)"
       ]
      }
     ],
     "prompt_number": 10
    },
    {
     "cell_type": "code",
     "collapsed": false,
     "input": [
      "att_scale = preprocessing.scale(att)\n",
      "scores_scale = list()\n",
      "\n",
      "for k in range (1,51):\n",
      "    knc.n_neighbors = k\n",
      "    i_scores_scale = cross_validation.cross_val_score(knc, att_scale, cls, cv = kfold, scoring = 'accuracy')\n",
      "    scores_scale.append(np.mean(i_scores_scale))\n",
      "#    scores_std.append(np.std(i_scores))\n",
      "np.argmax(scores_scale)+1, scores_scale[np.argmax(scores_scale)]"
     ],
     "language": "python",
     "metadata": {},
     "outputs": [
      {
       "metadata": {},
       "output_type": "pyout",
       "prompt_number": 11,
       "text": [
        "(29, 0.9776190476190475)"
       ]
      }
     ],
     "prompt_number": 11
    },
    {
     "cell_type": "code",
     "collapsed": false,
     "input": [],
     "language": "python",
     "metadata": {},
     "outputs": []
    }
   ],
   "metadata": {}
  }
 ]
}