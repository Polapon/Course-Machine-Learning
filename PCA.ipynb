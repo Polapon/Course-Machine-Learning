{
 "metadata": {
  "name": "",
  "signature": "sha256:a7a09afed57deead570690ece5c1bc0c09b0afec10785111c6d851ffcc4283ac"
 },
 "nbformat": 3,
 "nbformat_minor": 0,
 "worksheets": [
  {
   "cells": [
    {
     "cell_type": "code",
     "collapsed": false,
     "input": [
      "import numpy as np\n",
      "import pandas as pd\n",
      "import sklearn\n",
      "from sklearn.decomposition import PCA"
     ],
     "language": "python",
     "metadata": {},
     "outputs": [],
     "prompt_number": 1
    },
    {
     "cell_type": "code",
     "collapsed": false,
     "input": [
      "close_prices = pd.read_csv('close_prices.csv')\n",
      "X = close_prices.drop(['date'], axis=1)\n",
      "X.tail()"
     ],
     "language": "python",
     "metadata": {},
     "outputs": [
      {
       "html": [
        "<div style=\"max-width:1500px;overflow:auto;\">\n",
        "<table border=\"1\" class=\"dataframe\">\n",
        "  <thead>\n",
        "    <tr style=\"text-align: right;\">\n",
        "      <th></th>\n",
        "      <th>AXP</th>\n",
        "      <th>BA</th>\n",
        "      <th>CAT</th>\n",
        "      <th>CSCO</th>\n",
        "      <th>CVX</th>\n",
        "      <th>DD</th>\n",
        "      <th>DIS</th>\n",
        "      <th>GE</th>\n",
        "      <th>GS</th>\n",
        "      <th>HD</th>\n",
        "      <th>...</th>\n",
        "      <th>PFE</th>\n",
        "      <th>PG</th>\n",
        "      <th>T</th>\n",
        "      <th>TRV</th>\n",
        "      <th>UNH</th>\n",
        "      <th>UTX</th>\n",
        "      <th>V</th>\n",
        "      <th>VZ</th>\n",
        "      <th>WMT</th>\n",
        "      <th>XOM</th>\n",
        "    </tr>\n",
        "  </thead>\n",
        "  <tbody>\n",
        "    <tr>\n",
        "      <th>369</th>\n",
        "      <td>81.559998</td>\n",
        "      <td>152.039993</td>\n",
        "      <td>80.190002</td>\n",
        "      <td>28.240000</td>\n",
        "      <td>102.419998</td>\n",
        "      <td>80.400001</td>\n",
        "      <td>107.169998</td>\n",
        "      <td>25.400000</td>\n",
        "      <td>189.949997</td>\n",
        "      <td>116.099998</td>\n",
        "      <td>...</td>\n",
        "      <td>34.000000</td>\n",
        "      <td>82.089996</td>\n",
        "      <td>33.130001</td>\n",
        "      <td>107.830002</td>\n",
        "      <td>114.879997</td>\n",
        "      <td>121.239998</td>\n",
        "      <td>269.579987</td>\n",
        "      <td>48.730000</td>\n",
        "      <td>81.900002</td>\n",
        "      <td>84.220001</td>\n",
        "    </tr>\n",
        "    <tr>\n",
        "      <th>370</th>\n",
        "      <td>80.599998</td>\n",
        "      <td>151.570007</td>\n",
        "      <td>79.230003</td>\n",
        "      <td>27.940001</td>\n",
        "      <td>101.620003</td>\n",
        "      <td>80.499997</td>\n",
        "      <td>106.440002</td>\n",
        "      <td>25.040001</td>\n",
        "      <td>189.339996</td>\n",
        "      <td>114.820000</td>\n",
        "      <td>...</td>\n",
        "      <td>34.000000</td>\n",
        "      <td>81.830002</td>\n",
        "      <td>32.759998</td>\n",
        "      <td>106.720001</td>\n",
        "      <td>115.250000</td>\n",
        "      <td>118.739998</td>\n",
        "      <td>265.029999</td>\n",
        "      <td>48.840000</td>\n",
        "      <td>81.900002</td>\n",
        "      <td>83.870003</td>\n",
        "    </tr>\n",
        "    <tr>\n",
        "      <th>371</th>\n",
        "      <td>81.500000</td>\n",
        "      <td>153.669998</td>\n",
        "      <td>79.970001</td>\n",
        "      <td>28.299999</td>\n",
        "      <td>103.129997</td>\n",
        "      <td>77.069994</td>\n",
        "      <td>107.370003</td>\n",
        "      <td>25.450001</td>\n",
        "      <td>191.899994</td>\n",
        "      <td>116.500000</td>\n",
        "      <td>...</td>\n",
        "      <td>34.439999</td>\n",
        "      <td>83.559998</td>\n",
        "      <td>33.060001</td>\n",
        "      <td>108.930000</td>\n",
        "      <td>118.519997</td>\n",
        "      <td>120.070000</td>\n",
        "      <td>269.019989</td>\n",
        "      <td>49.270000</td>\n",
        "      <td>83.290001</td>\n",
        "      <td>84.760002</td>\n",
        "    </tr>\n",
        "    <tr>\n",
        "      <th>372</th>\n",
        "      <td>81.059998</td>\n",
        "      <td>154.509995</td>\n",
        "      <td>78.449997</td>\n",
        "      <td>28.150000</td>\n",
        "      <td>103.169998</td>\n",
        "      <td>74.680001</td>\n",
        "      <td>106.959999</td>\n",
        "      <td>25.309999</td>\n",
        "      <td>190.570007</td>\n",
        "      <td>115.580002</td>\n",
        "      <td>...</td>\n",
        "      <td>34.169998</td>\n",
        "      <td>82.849998</td>\n",
        "      <td>32.900002</td>\n",
        "      <td>108.750000</td>\n",
        "      <td>117.599998</td>\n",
        "      <td>119.860001</td>\n",
        "      <td>264.500000</td>\n",
        "      <td>48.950001</td>\n",
        "      <td>82.620003</td>\n",
        "      <td>84.080002</td>\n",
        "    </tr>\n",
        "    <tr>\n",
        "      <th>373</th>\n",
        "      <td>81.860001</td>\n",
        "      <td>155.729996</td>\n",
        "      <td>81.330002</td>\n",
        "      <td>28.150000</td>\n",
        "      <td>106.699997</td>\n",
        "      <td>76.009997</td>\n",
        "      <td>107.970001</td>\n",
        "      <td>25.639999</td>\n",
        "      <td>192.320007</td>\n",
        "      <td>116.080002</td>\n",
        "      <td>...</td>\n",
        "      <td>34.380001</td>\n",
        "      <td>83.750000</td>\n",
        "      <td>33.590000</td>\n",
        "      <td>109.519997</td>\n",
        "      <td>119.959999</td>\n",
        "      <td>120.309998</td>\n",
        "      <td>267.670013</td>\n",
        "      <td>49.540001</td>\n",
        "      <td>82.529999</td>\n",
        "      <td>86.070000</td>\n",
        "    </tr>\n",
        "  </tbody>\n",
        "</table>\n",
        "<p>5 rows \u00d7 30 columns</p>\n",
        "</div>"
       ],
       "metadata": {},
       "output_type": "pyout",
       "prompt_number": 8,
       "text": [
        "           AXP          BA        CAT       CSCO         CVX         DD  \\\n",
        "369  81.559998  152.039993  80.190002  28.240000  102.419998  80.400001   \n",
        "370  80.599998  151.570007  79.230003  27.940001  101.620003  80.499997   \n",
        "371  81.500000  153.669998  79.970001  28.299999  103.129997  77.069994   \n",
        "372  81.059998  154.509995  78.449997  28.150000  103.169998  74.680001   \n",
        "373  81.860001  155.729996  81.330002  28.150000  106.699997  76.009997   \n",
        "\n",
        "            DIS         GE          GS          HD    ...            PFE  \\\n",
        "369  107.169998  25.400000  189.949997  116.099998    ...      34.000000   \n",
        "370  106.440002  25.040001  189.339996  114.820000    ...      34.000000   \n",
        "371  107.370003  25.450001  191.899994  116.500000    ...      34.439999   \n",
        "372  106.959999  25.309999  190.570007  115.580002    ...      34.169998   \n",
        "373  107.970001  25.639999  192.320007  116.080002    ...      34.380001   \n",
        "\n",
        "            PG          T         TRV         UNH         UTX           V  \\\n",
        "369  82.089996  33.130001  107.830002  114.879997  121.239998  269.579987   \n",
        "370  81.830002  32.759998  106.720001  115.250000  118.739998  265.029999   \n",
        "371  83.559998  33.060001  108.930000  118.519997  120.070000  269.019989   \n",
        "372  82.849998  32.900002  108.750000  117.599998  119.860001  264.500000   \n",
        "373  83.750000  33.590000  109.519997  119.959999  120.309998  267.670013   \n",
        "\n",
        "            VZ        WMT        XOM  \n",
        "369  48.730000  81.900002  84.220001  \n",
        "370  48.840000  81.900002  83.870003  \n",
        "371  49.270000  83.290001  84.760002  \n",
        "372  48.950001  82.620003  84.080002  \n",
        "373  49.540001  82.529999  86.070000  \n",
        "\n",
        "[5 rows x 30 columns]"
       ]
      }
     ],
     "prompt_number": 8
    },
    {
     "cell_type": "code",
     "collapsed": false,
     "input": [
      "pca = PCA(n_components=10)\n",
      "pca.fit(X)"
     ],
     "language": "python",
     "metadata": {},
     "outputs": [
      {
       "metadata": {},
       "output_type": "pyout",
       "prompt_number": 22,
       "text": [
        "PCA(copy=True, n_components=10, whiten=False)"
       ]
      }
     ],
     "prompt_number": 22
    },
    {
     "cell_type": "code",
     "collapsed": false,
     "input": [
      "print(pca.explained_variance_ratio_)"
     ],
     "language": "python",
     "metadata": {},
     "outputs": [
      {
       "output_type": "stream",
       "stream": "stdout",
       "text": [
        "[ 0.73897118  0.11007169  0.04995088  0.0287492   0.02215448  0.01931577\n",
        "  0.00674853  0.00614091  0.00320594  0.00305611]\n"
       ]
      }
     ],
     "prompt_number": 23
    },
    {
     "cell_type": "code",
     "collapsed": false,
     "input": [
      "pca_t = pca.transform(X)"
     ],
     "language": "python",
     "metadata": {},
     "outputs": [],
     "prompt_number": 24
    },
    {
     "cell_type": "code",
     "collapsed": false,
     "input": [
      "c = [x[0] for x in pca_t]"
     ],
     "language": "python",
     "metadata": {},
     "outputs": [],
     "prompt_number": 82
    },
    {
     "cell_type": "code",
     "collapsed": false,
     "input": [
      "cone = np.array(pca_t[:,:1])\n",
      "#cone"
     ],
     "language": "python",
     "metadata": {},
     "outputs": [],
     "prompt_number": 81
    },
    {
     "cell_type": "code",
     "collapsed": false,
     "input": [
      "djia = pd.read_csv('djia_index.csv')\n",
      "djia = djia.drop(['date'], axis=1)\n",
      "idx = [x[0] for x in djia.values]"
     ],
     "language": "python",
     "metadata": {},
     "outputs": [],
     "prompt_number": 83
    },
    {
     "cell_type": "code",
     "collapsed": false,
     "input": [
      "print(np.corrcoef(c, idx))"
     ],
     "language": "python",
     "metadata": {},
     "outputs": [
      {
       "output_type": "stream",
       "stream": "stdout",
       "text": [
        "[[ 1.          0.90965222]\n",
        " [ 0.90965222  1.        ]]\n"
       ]
      }
     ],
     "prompt_number": 85
    },
    {
     "cell_type": "code",
     "collapsed": false,
     "input": [
      "np.argmax(pca.components_[0])"
     ],
     "language": "python",
     "metadata": {},
     "outputs": [
      {
       "metadata": {},
       "output_type": "pyout",
       "prompt_number": 86,
       "text": [
        "26"
       ]
      }
     ],
     "prompt_number": 86
    },
    {
     "cell_type": "code",
     "collapsed": false,
     "input": [
      "X.columns[np.argmax(pca.components_[0])]"
     ],
     "language": "python",
     "metadata": {},
     "outputs": [
      {
       "metadata": {},
       "output_type": "pyout",
       "prompt_number": 87,
       "text": [
        "'V'"
       ]
      }
     ],
     "prompt_number": 87
    },
    {
     "cell_type": "code",
     "collapsed": false,
     "input": [
      "np.sum(pca.explained_variance_ratio_[:3])"
     ],
     "language": "python",
     "metadata": {},
     "outputs": [
      {
       "metadata": {},
       "output_type": "pyout",
       "prompt_number": 95,
       "text": [
        "0.89899375558370775"
       ]
      }
     ],
     "prompt_number": 95
    },
    {
     "cell_type": "code",
     "collapsed": false,
     "input": [],
     "language": "python",
     "metadata": {},
     "outputs": []
    }
   ],
   "metadata": {}
  }
 ]
}