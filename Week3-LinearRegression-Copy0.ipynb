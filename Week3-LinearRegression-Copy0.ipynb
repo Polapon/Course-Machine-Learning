{
 "metadata": {
  "name": "",
  "signature": "sha256:303f44823f945ee729fdd625b1f8104903b7c8ce68403151750c96285c16d538"
 },
 "nbformat": 3,
 "nbformat_minor": 0,
 "worksheets": [
  {
   "cells": [
    {
     "cell_type": "code",
     "collapsed": true,
     "input": [
      "import pandas as pd\n",
      "import numpy as np\n",
      "import re"
     ],
     "language": "python",
     "metadata": {},
     "outputs": [],
     "prompt_number": 1
    },
    {
     "cell_type": "code",
     "collapsed": true,
     "input": [
      "data_train = pd.read_csv('salary-train.csv')"
     ],
     "language": "python",
     "metadata": {},
     "outputs": [],
     "prompt_number": 2
    },
    {
     "cell_type": "code",
     "collapsed": false,
     "input": [
      "data_test = pd.read_csv('salary-test-mini.csv')"
     ],
     "language": "python",
     "metadata": {},
     "outputs": [],
     "prompt_number": 3
    },
    {
     "cell_type": "code",
     "collapsed": true,
     "input": [
      "text_train = data_train['FullDescription'].replace('[^a-zA-Z0-9]', ' ', regex = True).str.lower()\n",
      "text_test = data_test['FullDescription'].replace('[^a-zA-Z0-9]', ' ', regex = True).str.lower()\n",
      "y_train = data_train.SalaryNormalized\n",
      "y_test = data_test['SalaryNormalized']"
     ],
     "language": "python",
     "metadata": {},
     "outputs": [],
     "prompt_number": 4
    },
    {
     "cell_type": "code",
     "collapsed": false,
     "input": [
      "from sklearn.feature_extraction.text import TfidfVectorizer\n",
      "\n",
      "vectorizer = TfidfVectorizer(min_df=5)\n",
      "vectors = vectorizer.fit_transform(text_train)\n",
      "v = vectorizer.transform(text_test)"
     ],
     "language": "python",
     "metadata": {},
     "outputs": [],
     "prompt_number": 5
    },
    {
     "cell_type": "code",
     "collapsed": false,
     "input": [
      "data_train['LocationNormalized'].fillna('nan', inplace=True)\n",
      "data_train['ContractTime'].fillna('nan', inplace=True)"
     ],
     "language": "python",
     "metadata": {},
     "outputs": [],
     "prompt_number": 6
    },
    {
     "cell_type": "code",
     "collapsed": false,
     "input": [
      "data_test['LocationNormalized'].fillna('nan', inplace=True)\n",
      "data_test['ContractTime'].fillna('nan', inplace=True)"
     ],
     "language": "python",
     "metadata": {},
     "outputs": [],
     "prompt_number": 7
    },
    {
     "cell_type": "code",
     "collapsed": true,
     "input": [
      "from sklearn.feature_extraction import DictVectorizer\n",
      "enc = DictVectorizer()\n",
      "X_train_category = enc.fit_transform(data_train[['LocationNormalized', \n",
      "                                                 'ContractTime']].to_dict('records'))\n",
      "X_test_category = enc.transform(data_test[['LocationNormalized', \n",
      "                                           'ContractTime']].to_dict('records'))"
     ],
     "language": "python",
     "metadata": {},
     "outputs": [],
     "prompt_number": 8
    },
    {
     "cell_type": "code",
     "collapsed": false,
     "input": [
      "from scipy.sparse import hstack\n",
      "\n",
      "X_train = hstack((vectors, X_train_category))"
     ],
     "language": "python",
     "metadata": {},
     "outputs": [],
     "prompt_number": 9
    },
    {
     "cell_type": "code",
     "collapsed": false,
     "input": [
      "from sklearn.linear_model import Ridge\n",
      "\n",
      "model = Ridge(alpha=1.0)\n",
      "model.fit(X_train, y_train)"
     ],
     "language": "python",
     "metadata": {},
     "outputs": [
      {
       "metadata": {},
       "output_type": "pyout",
       "prompt_number": 10,
       "text": [
        "Ridge(alpha=1.0, copy_X=True, fit_intercept=True, max_iter=None,\n",
        "   normalize=False, solver='auto', tol=0.001)"
       ]
      }
     ],
     "prompt_number": 10
    },
    {
     "cell_type": "code",
     "collapsed": false,
     "input": [
      "X_test = hstack((v, X_test_category))"
     ],
     "language": "python",
     "metadata": {},
     "outputs": [],
     "prompt_number": 11
    },
    {
     "cell_type": "code",
     "collapsed": false,
     "input": [
      "model.predict(X_test)"
     ],
     "language": "python",
     "metadata": {},
     "outputs": [
      {
       "metadata": {},
       "output_type": "pyout",
       "prompt_number": 12,
       "text": [
        "array([ 56584.14514817,  37125.19766349])"
       ]
      }
     ],
     "prompt_number": 12
    },
    {
     "cell_type": "code",
     "collapsed": false,
     "input": [],
     "language": "python",
     "metadata": {},
     "outputs": []
    }
   ],
   "metadata": {}
  }
 ]
}