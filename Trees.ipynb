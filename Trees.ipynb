{
 "metadata": {
  "name": "",
  "signature": "sha256:9e65483d9f041fde7e97e213dc63334418eb3ab16ec6ba70eda0667a65cb54c4"
 },
 "nbformat": 3,
 "nbformat_minor": 0,
 "worksheets": [
  {
   "cells": [
    {
     "cell_type": "code",
     "collapsed": false,
     "input": [
      "import pandas as pd\n",
      "import numpy as np\n",
      "from sklearn.tree import DecisionTreeClassifier\n",
      "from sklearn.preprocessing import LabelEncoder\n",
      "\n",
      "label = LabelEncoder()\n",
      "dicts = {}\n",
      "\n",
      "data = pd.read_csv('titanic.csv')\n",
      "data = data.drop(['PassengerId','Name', 'SibSp', 'Parch', 'Ticket','Cabin', 'Embarked'],axis=1)\n",
      "data = data.dropna()\n",
      "label.fit(data.Sex.drop_duplicates())\n",
      "dicts['Sex'] = list(label.classes_)\n",
      "data.Sex = label.transform(data.Sex)\n",
      "\n",
      "target = data.Survived\n",
      "train = data.drop(['Survived'], axis=1)\n",
      "data.head()"
     ],
     "language": "python",
     "metadata": {},
     "outputs": [
      {
       "html": [
        "<div style=\"max-width:1500px;overflow:auto;\">\n",
        "<table border=\"1\" class=\"dataframe\">\n",
        "  <thead>\n",
        "    <tr style=\"text-align: right;\">\n",
        "      <th></th>\n",
        "      <th>Survived</th>\n",
        "      <th>Pclass</th>\n",
        "      <th>Sex</th>\n",
        "      <th>Age</th>\n",
        "      <th>Fare</th>\n",
        "    </tr>\n",
        "  </thead>\n",
        "  <tbody>\n",
        "    <tr>\n",
        "      <th>0</th>\n",
        "      <td>0</td>\n",
        "      <td>3</td>\n",
        "      <td>1</td>\n",
        "      <td>22</td>\n",
        "      <td>7.2500</td>\n",
        "    </tr>\n",
        "    <tr>\n",
        "      <th>1</th>\n",
        "      <td>1</td>\n",
        "      <td>1</td>\n",
        "      <td>0</td>\n",
        "      <td>38</td>\n",
        "      <td>71.2833</td>\n",
        "    </tr>\n",
        "    <tr>\n",
        "      <th>2</th>\n",
        "      <td>1</td>\n",
        "      <td>3</td>\n",
        "      <td>0</td>\n",
        "      <td>26</td>\n",
        "      <td>7.9250</td>\n",
        "    </tr>\n",
        "    <tr>\n",
        "      <th>3</th>\n",
        "      <td>1</td>\n",
        "      <td>1</td>\n",
        "      <td>0</td>\n",
        "      <td>35</td>\n",
        "      <td>53.1000</td>\n",
        "    </tr>\n",
        "    <tr>\n",
        "      <th>4</th>\n",
        "      <td>0</td>\n",
        "      <td>3</td>\n",
        "      <td>1</td>\n",
        "      <td>35</td>\n",
        "      <td>8.0500</td>\n",
        "    </tr>\n",
        "  </tbody>\n",
        "</table>\n",
        "</div>"
       ],
       "metadata": {},
       "output_type": "pyout",
       "prompt_number": 30,
       "text": [
        "   Survived  Pclass  Sex  Age     Fare\n",
        "0         0       3    1   22   7.2500\n",
        "1         1       1    0   38  71.2833\n",
        "2         1       3    0   26   7.9250\n",
        "3         1       1    0   35  53.1000\n",
        "4         0       3    1   35   8.0500"
       ]
      }
     ],
     "prompt_number": 30
    },
    {
     "cell_type": "code",
     "collapsed": false,
     "input": [
      "clf = DecisionTreeClassifier(random_state=241)\n",
      "clf.fit(train, target)"
     ],
     "language": "python",
     "metadata": {},
     "outputs": [
      {
       "metadata": {},
       "output_type": "pyout",
       "prompt_number": 23,
       "text": [
        "DecisionTreeClassifier(class_weight=None, criterion='gini', max_depth=None,\n",
        "            max_features=None, max_leaf_nodes=None, min_samples_leaf=1,\n",
        "            min_samples_split=2, min_weight_fraction_leaf=0.0,\n",
        "            random_state=241, splitter='best')"
       ]
      }
     ],
     "prompt_number": 23
    },
    {
     "cell_type": "code",
     "collapsed": false,
     "input": [
      "importances = clf.feature_importances_"
     ],
     "language": "python",
     "metadata": {},
     "outputs": [],
     "prompt_number": 24
    },
    {
     "cell_type": "code",
     "collapsed": false,
     "input": [
      "importances"
     ],
     "language": "python",
     "metadata": {},
     "outputs": [
      {
       "metadata": {},
       "output_type": "pyout",
       "prompt_number": 28,
       "text": [
        "array([ 0.14000522,  0.30051221,  0.25524472,  0.30423785])"
       ]
      }
     ],
     "prompt_number": 28
    }
   ],
   "metadata": {}
  }
 ]
}