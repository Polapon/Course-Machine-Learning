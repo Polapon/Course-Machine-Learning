{
 "cells": [
  {
   "cell_type": "code",
   "execution_count": 1,
   "metadata": {
    "collapsed": false
   },
   "outputs": [],
   "source": [
    "# coding=utf8\n",
    "\n",
    "import pandas as pd\n",
    "import numpy as np\n",
    "import matplotlib.pyplot as plt\n",
    "import re\n",
    "from sklearn.linear_model import LinearRegression\n",
    "from sklearn.linear_model import LogisticRegression\n",
    "from sklearn.ensemble import RandomForestRegressor\n",
    "from sklearn.grid_search import GridSearchCV\n",
    "from sklearn.cross_validation import StratifiedKFold\n",
    "from sklearn.cross_validation import KFold\n",
    "from sklearn.cross_validation import cross_val_score\n",
    "from sklearn.preprocessing import StandardScaler\n",
    "from sklearn import metrics\n",
    "\n",
    "pd.set_option('display.width', 256)"
   ]
  },
  {
   "cell_type": "code",
   "execution_count": 2,
   "metadata": {
    "collapsed": false
   },
   "outputs": [
    {
     "data": {
      "text/html": [
       "<div style=\"max-width:1500px;overflow:auto;\">\n",
       "<table border=\"1\" class=\"dataframe\">\n",
       "  <thead>\n",
       "    <tr style=\"text-align: right;\">\n",
       "      <th></th>\n",
       "      <th>Sex</th>\n",
       "      <th>Length</th>\n",
       "      <th>Diameter</th>\n",
       "      <th>Height</th>\n",
       "      <th>WholeWeight</th>\n",
       "      <th>ShuckedWeight</th>\n",
       "      <th>VisceraWeight</th>\n",
       "      <th>ShellWeight</th>\n",
       "      <th>Rings</th>\n",
       "    </tr>\n",
       "  </thead>\n",
       "  <tbody>\n",
       "    <tr>\n",
       "      <th>0</th>\n",
       "      <td>M</td>\n",
       "      <td>0.455</td>\n",
       "      <td>0.365</td>\n",
       "      <td>0.095</td>\n",
       "      <td>0.5140</td>\n",
       "      <td>0.2245</td>\n",
       "      <td>0.1010</td>\n",
       "      <td>0.150</td>\n",
       "      <td>15</td>\n",
       "    </tr>\n",
       "    <tr>\n",
       "      <th>1</th>\n",
       "      <td>M</td>\n",
       "      <td>0.350</td>\n",
       "      <td>0.265</td>\n",
       "      <td>0.090</td>\n",
       "      <td>0.2255</td>\n",
       "      <td>0.0995</td>\n",
       "      <td>0.0485</td>\n",
       "      <td>0.070</td>\n",
       "      <td>7</td>\n",
       "    </tr>\n",
       "    <tr>\n",
       "      <th>2</th>\n",
       "      <td>F</td>\n",
       "      <td>0.530</td>\n",
       "      <td>0.420</td>\n",
       "      <td>0.135</td>\n",
       "      <td>0.6770</td>\n",
       "      <td>0.2565</td>\n",
       "      <td>0.1415</td>\n",
       "      <td>0.210</td>\n",
       "      <td>9</td>\n",
       "    </tr>\n",
       "    <tr>\n",
       "      <th>3</th>\n",
       "      <td>M</td>\n",
       "      <td>0.440</td>\n",
       "      <td>0.365</td>\n",
       "      <td>0.125</td>\n",
       "      <td>0.5160</td>\n",
       "      <td>0.2155</td>\n",
       "      <td>0.1140</td>\n",
       "      <td>0.155</td>\n",
       "      <td>10</td>\n",
       "    </tr>\n",
       "    <tr>\n",
       "      <th>4</th>\n",
       "      <td>I</td>\n",
       "      <td>0.330</td>\n",
       "      <td>0.255</td>\n",
       "      <td>0.080</td>\n",
       "      <td>0.2050</td>\n",
       "      <td>0.0895</td>\n",
       "      <td>0.0395</td>\n",
       "      <td>0.055</td>\n",
       "      <td>7</td>\n",
       "    </tr>\n",
       "  </tbody>\n",
       "</table>\n",
       "</div>"
      ],
      "text/plain": [
       "  Sex  Length  Diameter  Height  WholeWeight  ShuckedWeight  VisceraWeight  ShellWeight  Rings\n",
       "0   M   0.455     0.365   0.095       0.5140         0.2245         0.1010        0.150     15\n",
       "1   M   0.350     0.265   0.090       0.2255         0.0995         0.0485        0.070      7\n",
       "2   F   0.530     0.420   0.135       0.6770         0.2565         0.1415        0.210      9\n",
       "3   M   0.440     0.365   0.125       0.5160         0.2155         0.1140        0.155     10\n",
       "4   I   0.330     0.255   0.080       0.2050         0.0895         0.0395        0.055      7"
      ]
     },
     "execution_count": 2,
     "metadata": {},
     "output_type": "execute_result"
    }
   ],
   "source": [
    "data = pd.read_csv(\"abalone.csv\")\n",
    "data.head()"
   ]
  },
  {
   "cell_type": "code",
   "execution_count": 3,
   "metadata": {
    "collapsed": false
   },
   "outputs": [
    {
     "data": {
      "text/html": [
       "<div style=\"max-width:1500px;overflow:auto;\">\n",
       "<table border=\"1\" class=\"dataframe\">\n",
       "  <thead>\n",
       "    <tr style=\"text-align: right;\">\n",
       "      <th></th>\n",
       "      <th>Sex</th>\n",
       "      <th>Length</th>\n",
       "      <th>Diameter</th>\n",
       "      <th>Height</th>\n",
       "      <th>WholeWeight</th>\n",
       "      <th>ShuckedWeight</th>\n",
       "      <th>VisceraWeight</th>\n",
       "      <th>ShellWeight</th>\n",
       "      <th>Rings</th>\n",
       "    </tr>\n",
       "  </thead>\n",
       "  <tbody>\n",
       "    <tr>\n",
       "      <th>0</th>\n",
       "      <td>1</td>\n",
       "      <td>0.455</td>\n",
       "      <td>0.365</td>\n",
       "      <td>0.095</td>\n",
       "      <td>0.5140</td>\n",
       "      <td>0.2245</td>\n",
       "      <td>0.1010</td>\n",
       "      <td>0.150</td>\n",
       "      <td>15</td>\n",
       "    </tr>\n",
       "    <tr>\n",
       "      <th>1</th>\n",
       "      <td>1</td>\n",
       "      <td>0.350</td>\n",
       "      <td>0.265</td>\n",
       "      <td>0.090</td>\n",
       "      <td>0.2255</td>\n",
       "      <td>0.0995</td>\n",
       "      <td>0.0485</td>\n",
       "      <td>0.070</td>\n",
       "      <td>7</td>\n",
       "    </tr>\n",
       "    <tr>\n",
       "      <th>2</th>\n",
       "      <td>-1</td>\n",
       "      <td>0.530</td>\n",
       "      <td>0.420</td>\n",
       "      <td>0.135</td>\n",
       "      <td>0.6770</td>\n",
       "      <td>0.2565</td>\n",
       "      <td>0.1415</td>\n",
       "      <td>0.210</td>\n",
       "      <td>9</td>\n",
       "    </tr>\n",
       "    <tr>\n",
       "      <th>3</th>\n",
       "      <td>1</td>\n",
       "      <td>0.440</td>\n",
       "      <td>0.365</td>\n",
       "      <td>0.125</td>\n",
       "      <td>0.5160</td>\n",
       "      <td>0.2155</td>\n",
       "      <td>0.1140</td>\n",
       "      <td>0.155</td>\n",
       "      <td>10</td>\n",
       "    </tr>\n",
       "    <tr>\n",
       "      <th>4</th>\n",
       "      <td>0</td>\n",
       "      <td>0.330</td>\n",
       "      <td>0.255</td>\n",
       "      <td>0.080</td>\n",
       "      <td>0.2050</td>\n",
       "      <td>0.0895</td>\n",
       "      <td>0.0395</td>\n",
       "      <td>0.055</td>\n",
       "      <td>7</td>\n",
       "    </tr>\n",
       "  </tbody>\n",
       "</table>\n",
       "</div>"
      ],
      "text/plain": [
       "   Sex  Length  Diameter  Height  WholeWeight  ShuckedWeight  VisceraWeight  ShellWeight  Rings\n",
       "0    1   0.455     0.365   0.095       0.5140         0.2245         0.1010        0.150     15\n",
       "1    1   0.350     0.265   0.090       0.2255         0.0995         0.0485        0.070      7\n",
       "2   -1   0.530     0.420   0.135       0.6770         0.2565         0.1415        0.210      9\n",
       "3    1   0.440     0.365   0.125       0.5160         0.2155         0.1140        0.155     10\n",
       "4    0   0.330     0.255   0.080       0.2050         0.0895         0.0395        0.055      7"
      ]
     },
     "execution_count": 3,
     "metadata": {},
     "output_type": "execute_result"
    }
   ],
   "source": [
    "data['Sex'] = data['Sex'].map(lambda x: 1 \n",
    "                              if x=='M' else \n",
    "                              (-1 if x=='F' else 0))\n",
    "data.head()"
   ]
  },
  {
   "cell_type": "code",
   "execution_count": 4,
   "metadata": {
    "collapsed": false
   },
   "outputs": [
    {
     "data": {
      "text/plain": [
       "array([[ 1.    ,  0.455 ,  0.365 , ...,  0.2245,  0.101 ,  0.15  ],\n",
       "       [ 1.    ,  0.35  ,  0.265 , ...,  0.0995,  0.0485,  0.07  ],\n",
       "       [-1.    ,  0.53  ,  0.42  , ...,  0.2565,  0.1415,  0.21  ],\n",
       "       ..., \n",
       "       [ 1.    ,  0.6   ,  0.475 , ...,  0.5255,  0.2875,  0.308 ],\n",
       "       [-1.    ,  0.625 ,  0.485 , ...,  0.531 ,  0.261 ,  0.296 ],\n",
       "       [ 1.    ,  0.71  ,  0.555 , ...,  0.9455,  0.3765,  0.495 ]])"
      ]
     },
     "execution_count": 4,
     "metadata": {},
     "output_type": "execute_result"
    }
   ],
   "source": [
    "target = data.Rings.values\n",
    "features = data.drop(['Rings'], axis=1)\n",
    "\n",
    "X = features.values\n",
    "X"
   ]
  },
  {
   "cell_type": "code",
   "execution_count": 5,
   "metadata": {
    "collapsed": false
   },
   "outputs": [
    {
     "name": "stdout",
     "output_type": "stream",
     "text": [
      "(4177, 8)\n"
     ]
    }
   ],
   "source": [
    "n_samples, n_features = X.shape\n",
    "print(n_samples, n_features)"
   ]
  },
  {
   "cell_type": "code",
   "execution_count": 6,
   "metadata": {
    "collapsed": false
   },
   "outputs": [],
   "source": [
    "kf = KFold(n_samples, n_folds=5, shuffle=True, random_state=1)"
   ]
  },
  {
   "cell_type": "code",
   "execution_count": 9,
   "metadata": {
    "collapsed": false
   },
   "outputs": [
    {
     "name": "stdout",
     "output_type": "stream",
     "text": [
      "Accuracy (random forest): 0.120 (+/- 0.224) by n_estimators 1\n",
      "Accuracy (random forest): 0.334 (+/- 0.081) by n_estimators 2\n",
      "Accuracy (random forest): 0.399 (+/- 0.052) by n_estimators 3\n",
      "Accuracy (random forest): 0.441 (+/- 0.050) by n_estimators 4\n",
      "Accuracy (random forest): 0.463 (+/- 0.044) by n_estimators 5\n",
      "Accuracy (random forest): 0.470 (+/- 0.038) by n_estimators 6\n",
      "Accuracy (random forest): 0.475 (+/- 0.038) by n_estimators 7\n",
      "Accuracy (random forest): 0.481 (+/- 0.043) by n_estimators 8\n",
      "Accuracy (random forest): 0.486 (+/- 0.043) by n_estimators 9\n",
      "Accuracy (random forest): 0.492 (+/- 0.049) by n_estimators 10\n",
      "Accuracy (random forest): 0.492 (+/- 0.045) by n_estimators 11\n",
      "Accuracy (random forest): 0.496 (+/- 0.039) by n_estimators 12\n",
      "Accuracy (random forest): 0.501 (+/- 0.039) by n_estimators 13\n",
      "Accuracy (random forest): 0.505 (+/- 0.037) by n_estimators 14\n",
      "Accuracy (random forest): 0.509 (+/- 0.038) by n_estimators 15\n",
      "Accuracy (random forest): 0.511 (+/- 0.037) by n_estimators 16\n",
      "Accuracy (random forest): 0.513 (+/- 0.036) by n_estimators 17\n",
      "Accuracy (random forest): 0.514 (+/- 0.036) by n_estimators 18\n",
      "Accuracy (random forest): 0.517 (+/- 0.036) by n_estimators 19\n",
      "Accuracy (random forest): 0.516 (+/- 0.036) by n_estimators 20\n",
      "Accuracy (random forest): 0.518 (+/- 0.039) by n_estimators 21\n",
      "Accuracy (random forest): 0.518 (+/- 0.038) by n_estimators 22\n",
      "Accuracy (random forest): 0.519 (+/- 0.039) by n_estimators 23\n",
      "Accuracy (random forest): 0.521 (+/- 0.040) by n_estimators 24\n",
      "Accuracy (random forest): 0.521 (+/- 0.040) by n_estimators 25\n",
      "Accuracy (random forest): 0.521 (+/- 0.039) by n_estimators 26\n",
      "Accuracy (random forest): 0.522 (+/- 0.040) by n_estimators 27\n",
      "Accuracy (random forest): 0.523 (+/- 0.041) by n_estimators 28\n",
      "Accuracy (random forest): 0.524 (+/- 0.042) by n_estimators 29\n",
      "Accuracy (random forest): 0.525 (+/- 0.041) by n_estimators 30\n",
      "Accuracy (random forest): 0.525 (+/- 0.042) by n_estimators 31\n",
      "Accuracy (random forest): 0.526 (+/- 0.041) by n_estimators 32\n",
      "Accuracy (random forest): 0.528 (+/- 0.041) by n_estimators 33\n",
      "Accuracy (random forest): 0.528 (+/- 0.041) by n_estimators 34\n",
      "Accuracy (random forest): 0.528 (+/- 0.041) by n_estimators 35\n",
      "Accuracy (random forest): 0.528 (+/- 0.041) by n_estimators 36\n",
      "Accuracy (random forest): 0.527 (+/- 0.041) by n_estimators 37\n",
      "Accuracy (random forest): 0.528 (+/- 0.041) by n_estimators 38\n",
      "Accuracy (random forest): 0.528 (+/- 0.042) by n_estimators 39\n",
      "Accuracy (random forest): 0.528 (+/- 0.040) by n_estimators 40\n",
      "Accuracy (random forest): 0.528 (+/- 0.042) by n_estimators 41\n",
      "Accuracy (random forest): 0.528 (+/- 0.041) by n_estimators 42\n",
      "Accuracy (random forest): 0.528 (+/- 0.041) by n_estimators 43\n",
      "Accuracy (random forest): 0.528 (+/- 0.042) by n_estimators 44\n",
      "Accuracy (random forest): 0.528 (+/- 0.041) by n_estimators 45\n",
      "Accuracy (random forest): 0.528 (+/- 0.043) by n_estimators 46\n",
      "Accuracy (random forest): 0.528 (+/- 0.044) by n_estimators 47\n",
      "Accuracy (random forest): 0.529 (+/- 0.043) by n_estimators 48\n",
      "Accuracy (random forest): 0.529 (+/- 0.042) by n_estimators 49\n",
      "Accuracy (random forest): 0.530 (+/- 0.042) by n_estimators 50\n",
      "Wall time: 3min 10s\n"
     ]
    }
   ],
   "source": [
    "%%time\n",
    "from sklearn.metrics import r2_score, make_scorer\n",
    "\n",
    "for i in range(1, 51, 1):\n",
    "    rfr = RandomForestRegressor(n_estimators=i, random_state=1)\n",
    "    scores = cross_val_score(rfr, features, target, scoring='r2', cv=kf, n_jobs=2)\n",
    "    print(\"Accuracy (random forest): %0.3f (+/- %0.3f) by n_estimators %d\" % (scores.mean(), scores.std() * 2, i))\n"
   ]
  },
  {
   "cell_type": "code",
   "execution_count": null,
   "metadata": {
    "collapsed": false
   },
   "outputs": [],
   "source": []
  }
 ],
 "metadata": {
  "kernelspec": {
   "display_name": "Python 2",
   "language": "python",
   "name": "python2"
  },
  "language_info": {
   "codemirror_mode": {
    "name": "ipython",
    "version": 2
   },
   "file_extension": ".py",
   "mimetype": "text/x-python",
   "name": "python",
   "nbconvert_exporter": "python",
   "pygments_lexer": "ipython2",
   "version": "2.7.11"
  }
 },
 "nbformat": 4,
 "nbformat_minor": 0
}
