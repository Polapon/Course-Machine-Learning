{
 "cells": [
  {
   "cell_type": "markdown",
   "metadata": {},
   "source": [
    "# Решение задачи кредитного скоро из первого задания курса Data Analysis на Курсере"
   ]
  },
  {
   "cell_type": "markdown",
   "metadata": {},
   "source": [
    "Эту задачу предлагали в качестве домашнего задания в рамках курса Data Analysis на Coursera.\n",
    "\n",
    "Описание переменных находятся в <a href=\"https://spark-public.s3.amazonaws.com/dataanalysis/loansCodebook.pdf\">отдельном</a> файле.\n",
    "\n",
    "Данные доступны в формате <a href=\"https://spark-public.s3.amazonaws.com/dataanalysis/loansData.csv\">.csv</a> и <a href=\"https://spark-\n",
    "public.s3.amazonaws.com/dataanalysis/loansData.rda)\">.rda</a>. \n",
    "\n",
    "В рамках курса предполагось использование R, мы же будем смотреть эти данные при помощи Pandas и Python.\n",
    "\n",
    "Самое крутое, что суть задания была в том, чтобы научить людей проведение исследованию и правильному оформлению результатов. Предполагается использование шаблонов, содержащих определённую структуру проекта. Отдельное хранение данных, кода и текстового отчёта для создания воспроизводимого исследования (это когда любой желающий может скачать данные, код и самостоятельно убедиться в том, что все вычисления производятся верно).\n",
    "\n"
   ]
  },
  {
   "cell_type": "markdown",
   "metadata": {},
   "source": [
    "## Введение"
   ]
  },
  {
   "cell_type": "markdown",
   "metadata": {},
   "source": [
    "Предоставленные данные представляют собой статистику по займам p2p клуба.\n",
    "При этом кредиторы имеют различный рейтинг в зависимости от их платёжеспособности, на основе которого и рассчитываются проценты по займу, а также максимальная сумма кредита. В общем случае, проценты по кредиту оказываются связаны с риском невозврата. Естественно, что люди с плохой кредитной историей будут получать больший процент, меньшую сумму и на меньший промежуток времени.\n",
    "\n",
    "Мы будем анализировать данные 2500 займов, вся информация по которым приведена в исходных данных.\n",
    "\n",
    "Целью исследования является определение тех факторов, которые оказывают влияние на принятие решения о выделении займа или в отказе на него."
   ]
  },
  {
   "cell_type": "markdown",
   "metadata": {},
   "source": [
    "## Исследование"
   ]
  },
  {
   "cell_type": "markdown",
   "metadata": {},
   "source": [
    "### Данные"
   ]
  },
  {
   "cell_type": "markdown",
   "metadata": {},
   "source": [
    "Как всегда, сначала загрузим нужные модули и настроим графики так, чтобы они были милыми и аккуратными."
   ]
  },
  {
   "cell_type": "code",
   "execution_count": 7,
   "metadata": {
    "collapsed": false
   },
   "outputs": [
    {
     "name": "stderr",
     "output_type": "stream",
     "text": [
      "C:\\Users\\iskus\\Anaconda3\\lib\\site-packages\\matplotlib\\__init__.py:872: UserWarning: axes.color_cycle is deprecated and replaced with axes.prop_cycle; please use the latter.\n",
      "  warnings.warn(self.msg_depr % (key, alt_key))\n"
     ]
    }
   ],
   "source": [
    "import matplotlib.pyplot as plt\n",
    "import numpy as np\n",
    "import pandas as pd\n",
    "from pandas import date_range,Series,DataFrame,read_csv, qcut\n",
    "from pandas.tools.plotting import radviz,scatter_matrix,bootstrap_plot,parallel_coordinates\n",
    "from statsmodels.formula.api import ols\n",
    "from statsmodels.stats.anova import anova_lm\n",
    "from numpy.random import randn\n",
    "from pylab import *\n",
    "import brewer2mpl\n",
    "from matplotlib import rcParams\n",
    "\n",
    "#colorbrewer2 Dark2 qualitative color table\n",
    "dark2_colors = brewer2mpl.get_map('Dark2', 'Qualitative', 7).mpl_colors\n",
    "\n",
    "rcParams['figure.figsize'] = (10, 6)\n",
    "rcParams['figure.dpi'] = 150\n",
    "rcParams['axes.color_cycle'] = dark2_colors #axes.color_cycle\n",
    "rcParams['lines.linewidth'] = 2\n",
    "rcParams['axes.facecolor'] = 'white'\n",
    "rcParams['font.size'] = 14\n",
    "rcParams['patch.edgecolor'] = 'white'\n",
    "rcParams['patch.facecolor'] = dark2_colors[0]\n",
    "rcParams['font.family'] = 'StixGeneral'\n",
    "\n",
    "def remove_border(axes=None, top=False, right=False, left=True, bottom=True):\n",
    "    \"\"\"\n",
    "    Minimize chartjunk by stripping out unnecesasry plot borders and axis ticks\n",
    "    \n",
    "    The top/right/left/bottom keywords toggle whether the corresponding plot border is drawn\n",
    "    \"\"\"\n",
    "    ax = axes or plt.gca()\n",
    "    ax.spines['top'].set_visible(top)\n",
    "    ax.spines['right'].set_visible(right)\n",
    "    ax.spines['left'].set_visible(left)\n",
    "    ax.spines['bottom'].set_visible(bottom)\n",
    "    \n",
    "    #turn off all ticks\n",
    "    ax.yaxis.set_ticks_position('none')\n",
    "    ax.xaxis.set_ticks_position('none')\n",
    "    \n",
    "    #now re-enable visibles\n",
    "    if top:\n",
    "        ax.xaxis.tick_top()\n",
    "    if bottom:\n",
    "        ax.xaxis.tick_bottom()\n",
    "    if left:\n",
    "        ax.yaxis.tick_left()\n",
    "    if right:\n",
    "        ax.yaxis.tick_right()"
   ]
  },
  {
   "cell_type": "code",
   "execution_count": 8,
   "metadata": {
    "collapsed": false
   },
   "outputs": [],
   "source": [
    "data = pd.read_csv('loansData.csv', delimiter=',').dropna()"
   ]
  },
  {
   "cell_type": "markdown",
   "metadata": {},
   "source": [
    "Посмотрим, как с чем мы имеем дело."
   ]
  },
  {
   "cell_type": "code",
   "execution_count": 9,
   "metadata": {
    "collapsed": false
   },
   "outputs": [
    {
     "data": {
      "text/html": [
       "<div>\n",
       "<table border=\"1\" class=\"dataframe\">\n",
       "  <thead>\n",
       "    <tr style=\"text-align: right;\">\n",
       "      <th></th>\n",
       "      <th>Amount.Requested</th>\n",
       "      <th>Amount.Funded.By.Investors</th>\n",
       "      <th>Interest.Rate</th>\n",
       "      <th>Loan.Length</th>\n",
       "      <th>Loan.Purpose</th>\n",
       "      <th>Debt.To.Income.Ratio</th>\n",
       "      <th>State</th>\n",
       "      <th>Home.Ownership</th>\n",
       "      <th>Monthly.Income</th>\n",
       "      <th>FICO.Range</th>\n",
       "      <th>Open.CREDIT.Lines</th>\n",
       "      <th>Revolving.CREDIT.Balance</th>\n",
       "      <th>Inquiries.in.the.Last.6.Months</th>\n",
       "      <th>Employment.Length</th>\n",
       "    </tr>\n",
       "  </thead>\n",
       "  <tbody>\n",
       "    <tr>\n",
       "      <th>81174</th>\n",
       "      <td>20000</td>\n",
       "      <td>20000.0</td>\n",
       "      <td>8.90%</td>\n",
       "      <td>36 months</td>\n",
       "      <td>debt_consolidation</td>\n",
       "      <td>14.90%</td>\n",
       "      <td>SC</td>\n",
       "      <td>MORTGAGE</td>\n",
       "      <td>6541.67</td>\n",
       "      <td>735-739</td>\n",
       "      <td>14.0</td>\n",
       "      <td>14272.0</td>\n",
       "      <td>2.0</td>\n",
       "      <td>&lt; 1 year</td>\n",
       "    </tr>\n",
       "    <tr>\n",
       "      <th>99592</th>\n",
       "      <td>19200</td>\n",
       "      <td>19200.0</td>\n",
       "      <td>12.12%</td>\n",
       "      <td>36 months</td>\n",
       "      <td>debt_consolidation</td>\n",
       "      <td>28.36%</td>\n",
       "      <td>TX</td>\n",
       "      <td>MORTGAGE</td>\n",
       "      <td>4583.33</td>\n",
       "      <td>715-719</td>\n",
       "      <td>12.0</td>\n",
       "      <td>11140.0</td>\n",
       "      <td>1.0</td>\n",
       "      <td>2 years</td>\n",
       "    </tr>\n",
       "    <tr>\n",
       "      <th>80059</th>\n",
       "      <td>35000</td>\n",
       "      <td>35000.0</td>\n",
       "      <td>21.98%</td>\n",
       "      <td>60 months</td>\n",
       "      <td>debt_consolidation</td>\n",
       "      <td>23.81%</td>\n",
       "      <td>CA</td>\n",
       "      <td>MORTGAGE</td>\n",
       "      <td>11500.00</td>\n",
       "      <td>690-694</td>\n",
       "      <td>14.0</td>\n",
       "      <td>21977.0</td>\n",
       "      <td>1.0</td>\n",
       "      <td>2 years</td>\n",
       "    </tr>\n",
       "    <tr>\n",
       "      <th>15825</th>\n",
       "      <td>10000</td>\n",
       "      <td>9975.0</td>\n",
       "      <td>9.99%</td>\n",
       "      <td>36 months</td>\n",
       "      <td>debt_consolidation</td>\n",
       "      <td>14.30%</td>\n",
       "      <td>KS</td>\n",
       "      <td>MORTGAGE</td>\n",
       "      <td>3833.33</td>\n",
       "      <td>695-699</td>\n",
       "      <td>10.0</td>\n",
       "      <td>9346.0</td>\n",
       "      <td>0.0</td>\n",
       "      <td>5 years</td>\n",
       "    </tr>\n",
       "    <tr>\n",
       "      <th>33182</th>\n",
       "      <td>12000</td>\n",
       "      <td>12000.0</td>\n",
       "      <td>11.71%</td>\n",
       "      <td>36 months</td>\n",
       "      <td>credit_card</td>\n",
       "      <td>18.78%</td>\n",
       "      <td>NJ</td>\n",
       "      <td>RENT</td>\n",
       "      <td>3195.00</td>\n",
       "      <td>695-699</td>\n",
       "      <td>11.0</td>\n",
       "      <td>14469.0</td>\n",
       "      <td>0.0</td>\n",
       "      <td>9 years</td>\n",
       "    </tr>\n",
       "  </tbody>\n",
       "</table>\n",
       "</div>"
      ],
      "text/plain": [
       "       Amount.Requested  Amount.Funded.By.Investors Interest.Rate Loan.Length  \\\n",
       "81174             20000                     20000.0         8.90%   36 months   \n",
       "99592             19200                     19200.0        12.12%   36 months   \n",
       "80059             35000                     35000.0        21.98%   60 months   \n",
       "15825             10000                      9975.0         9.99%   36 months   \n",
       "33182             12000                     12000.0        11.71%   36 months   \n",
       "\n",
       "             Loan.Purpose Debt.To.Income.Ratio State Home.Ownership  \\\n",
       "81174  debt_consolidation               14.90%    SC       MORTGAGE   \n",
       "99592  debt_consolidation               28.36%    TX       MORTGAGE   \n",
       "80059  debt_consolidation               23.81%    CA       MORTGAGE   \n",
       "15825  debt_consolidation               14.30%    KS       MORTGAGE   \n",
       "33182         credit_card               18.78%    NJ           RENT   \n",
       "\n",
       "       Monthly.Income FICO.Range  Open.CREDIT.Lines  Revolving.CREDIT.Balance  \\\n",
       "81174         6541.67    735-739               14.0                   14272.0   \n",
       "99592         4583.33    715-719               12.0                   11140.0   \n",
       "80059        11500.00    690-694               14.0                   21977.0   \n",
       "15825         3833.33    695-699               10.0                    9346.0   \n",
       "33182         3195.00    695-699               11.0                   14469.0   \n",
       "\n",
       "       Inquiries.in.the.Last.6.Months Employment.Length  \n",
       "81174                             2.0          < 1 year  \n",
       "99592                             1.0           2 years  \n",
       "80059                             1.0           2 years  \n",
       "15825                             0.0           5 years  \n",
       "33182                             0.0           9 years  "
      ]
     },
     "execution_count": 9,
     "metadata": {},
     "output_type": "execute_result"
    }
   ],
   "source": [
    "data.head()"
   ]
  },
  {
   "cell_type": "markdown",
   "metadata": {},
   "source": [
    "Мы имеем дело с 14 переменными, которые задают запрашиваемую сумму, выданный займ, проценты по нему, длительность займа, цель, штат заёмщика, его месячный доход, количество запросов на кредит в течение последних 6 месяцев, стаж работы, а также кредитный рейтинг."
   ]
  },
  {
   "cell_type": "markdown",
   "metadata": {},
   "source": [
    "### Очистка и нормализация данных"
   ]
  },
  {
   "cell_type": "markdown",
   "metadata": {},
   "source": [
    "Когда мы считали данные, мы сразу указали параметр, который отбросил данные не имеющие какой-то переменной, поэтому у нас осталось:"
   ]
  },
  {
   "cell_type": "code",
   "execution_count": 10,
   "metadata": {
    "collapsed": false
   },
   "outputs": [
    {
     "data": {
      "text/plain": [
       "2498"
      ]
     },
     "execution_count": 10,
     "metadata": {},
     "output_type": "execute_result"
    }
   ],
   "source": [
    "len(data)"
   ]
  },
  {
   "cell_type": "markdown",
   "metadata": {},
   "source": [
    "2498 случаев займа. Теперь нужно привести к численному виду кредитный рейтинг заёмщика, который в оргинальном наборе представляет собой промежуток. Как сказали бы математики, не нарушая общности рассуждений (что значит, ткнув пальцем в небо), возьмём в качестве значения нижнюю границу рейтинга."
   ]
  },
  {
   "cell_type": "code",
   "execution_count": 11,
   "metadata": {
    "collapsed": false
   },
   "outputs": [],
   "source": [
    "clean_fico = [int(r.split('-')[0]) for r in data[\"FICO.Range\"]]"
   ]
  },
  {
   "cell_type": "code",
   "execution_count": 12,
   "metadata": {
    "collapsed": false
   },
   "outputs": [
    {
     "data": {
      "text/plain": [
       "81174    735\n",
       "99592    715\n",
       "80059    690\n",
       "15825    695\n",
       "33182    695\n",
       "Name: FICO, dtype: int64"
      ]
     },
     "execution_count": 12,
     "metadata": {},
     "output_type": "execute_result"
    }
   ],
   "source": [
    "data[\"FICO\"] = clean_fico\n",
    "data[\"FICO\"].head()"
   ]
  },
  {
   "cell_type": "markdown",
   "metadata": {},
   "source": [
    "Теперь переведём в числовую переменную длительность займа, отношение запрашиваемой сумму к месячному доходу и процентную ставку:"
   ]
  },
  {
   "cell_type": "code",
   "execution_count": 13,
   "metadata": {
    "collapsed": false
   },
   "outputs": [
    {
     "data": {
      "text/html": [
       "<div>\n",
       "<table border=\"1\" class=\"dataframe\">\n",
       "  <thead>\n",
       "    <tr style=\"text-align: right;\">\n",
       "      <th></th>\n",
       "      <th>debt_to_income_ratio</th>\n",
       "      <th>interest_rate</th>\n",
       "      <th>loan_length</th>\n",
       "    </tr>\n",
       "  </thead>\n",
       "  <tbody>\n",
       "    <tr>\n",
       "      <th>81174</th>\n",
       "      <td>14.90</td>\n",
       "      <td>8.90</td>\n",
       "      <td>36</td>\n",
       "    </tr>\n",
       "    <tr>\n",
       "      <th>99592</th>\n",
       "      <td>28.36</td>\n",
       "      <td>12.12</td>\n",
       "      <td>36</td>\n",
       "    </tr>\n",
       "    <tr>\n",
       "      <th>80059</th>\n",
       "      <td>23.81</td>\n",
       "      <td>21.98</td>\n",
       "      <td>60</td>\n",
       "    </tr>\n",
       "    <tr>\n",
       "      <th>15825</th>\n",
       "      <td>14.30</td>\n",
       "      <td>9.99</td>\n",
       "      <td>36</td>\n",
       "    </tr>\n",
       "    <tr>\n",
       "      <th>33182</th>\n",
       "      <td>18.78</td>\n",
       "      <td>11.71</td>\n",
       "      <td>36</td>\n",
       "    </tr>\n",
       "  </tbody>\n",
       "</table>\n",
       "</div>"
      ],
      "text/plain": [
       "       debt_to_income_ratio  interest_rate  loan_length\n",
       "81174                 14.90           8.90           36\n",
       "99592                 28.36          12.12           36\n",
       "80059                 23.81          21.98           60\n",
       "15825                 14.30           9.99           36\n",
       "33182                 18.78          11.71           36"
      ]
     },
     "execution_count": 13,
     "metadata": {},
     "output_type": "execute_result"
    }
   ],
   "source": [
    "loan_length = [int(r.split()[0]) for r in data[\"Loan.Length\"]]\n",
    "data[\"loan_length\"] = loan_length\n",
    "interest_rate = [float(r[:-1]) for r in data[\"Interest.Rate\"]]\n",
    "data[\"interest_rate\"] = interest_rate \n",
    "debt_to_income_ratio = [float(r[:-1]) for r in data[\"Debt.To.Income.Ratio\"]]\n",
    "data[\"debt_to_income_ratio\"] = debt_to_income_ratio\n",
    "data[[\"debt_to_income_ratio\",\"interest_rate\",\"loan_length\"]].head()\n"
   ]
  },
  {
   "cell_type": "markdown",
   "metadata": {},
   "source": [
    "Ещё мы столкнёмся с проблемой в том, что в именах переменных сейчас стоят точки. Это очень легко исправить."
   ]
  },
  {
   "cell_type": "code",
   "execution_count": 15,
   "metadata": {
    "collapsed": false
   },
   "outputs": [
    {
     "name": "stdout",
     "output_type": "stream",
     "text": [
      "'Amount.Requested':'Amount_Requested',\n",
      "'Amount.Funded.By.Investors':'Amount_Funded_By_Investors',\n",
      "'Interest.Rate':'Interest_Rate',\n",
      "'Loan.Length':'Loan_Length',\n",
      "'Loan.Purpose':'Loan_Purpose',\n",
      "'Debt.To.Income.Ratio':'Debt_To_Income_Ratio',\n",
      "'State':'State',\n",
      "'Home.Ownership':'Home_Ownership',\n",
      "'Monthly.Income':'Monthly_Income',\n",
      "'FICO.Range':'FICO_Range',\n",
      "'Open.CREDIT.Lines':'Open_CREDIT_Lines',\n",
      "'Revolving.CREDIT.Balance':'Revolving_CREDIT_Balance',\n",
      "'Inquiries.in.the.Last.6.Months':'Inquiries_in_the_Last_6_Months',\n",
      "'Employment.Length':'Employment_Length',\n",
      "'FICO':'FICO',\n",
      "'loan_length':'loan_length',\n",
      "'interest_rate':'interest_rate',\n",
      "'debt_to_income_ratio':'debt_to_income_ratio',\n"
     ]
    }
   ],
   "source": [
    "for item in data.columns:\n",
    "    print(\"'\"+item+\"':'\"+item.replace('.','_')+\"',\",)"
   ]
  },
  {
   "cell_type": "code",
   "execution_count": 16,
   "metadata": {
    "collapsed": false
   },
   "outputs": [],
   "source": [
    "data.rename(columns={'Amount.Requested':'Amount_Requested', \\\n",
    "                     'Amount.Funded.By.Investors':'Amount_Funded_By_Investors', \\\n",
    "                     'Interest.Rate':'Interest_Rate', 'Loan.Length':'Loan_Length', \\\n",
    "                     'Loan.Purpose':'Loan_Purpose', 'Debt.To.Income.Ratio':'Debt_To_Income_Ratio', \\\n",
    "                     'State':'State', 'Home.Ownership':'Home_Ownership', 'Monthly.Income':'Monthly_Income', \\\n",
    "                     'FICO.Range':'FICO_Range', 'Open.CREDIT.Lines':'Open_CREDIT_Lines', \\\n",
    "                     'Revolving.CREDIT.Balance':'Revolving_CREDIT_Balance', \\\n",
    "                     'Inquiries.in.the.Last.6.Months':'Inquiries_in_the_Last_6_Months', \\\n",
    "                     'Employment.Length':'Employment_Length'},inplace=True)"
   ]
  },
  {
   "cell_type": "markdown",
   "metadata": {},
   "source": [
    "### Обзор данных"
   ]
  },
  {
   "cell_type": "code",
   "execution_count": 17,
   "metadata": {
    "collapsed": false
   },
   "outputs": [
    {
     "data": {
      "text/html": [
       "<div>\n",
       "<table border=\"1\" class=\"dataframe\">\n",
       "  <thead>\n",
       "    <tr style=\"text-align: right;\">\n",
       "      <th></th>\n",
       "      <th>Amount_Requested</th>\n",
       "      <th>Amount_Funded_By_Investors</th>\n",
       "      <th>Monthly_Income</th>\n",
       "      <th>Open_CREDIT_Lines</th>\n",
       "      <th>Revolving_CREDIT_Balance</th>\n",
       "      <th>Inquiries_in_the_Last_6_Months</th>\n",
       "      <th>FICO</th>\n",
       "      <th>loan_length</th>\n",
       "      <th>interest_rate</th>\n",
       "      <th>debt_to_income_ratio</th>\n",
       "    </tr>\n",
       "  </thead>\n",
       "  <tbody>\n",
       "    <tr>\n",
       "      <th>count</th>\n",
       "      <td>2498.000000</td>\n",
       "      <td>2498.000000</td>\n",
       "      <td>2498.000000</td>\n",
       "      <td>2498.000000</td>\n",
       "      <td>2498.000000</td>\n",
       "      <td>2498.000000</td>\n",
       "      <td>2498.000000</td>\n",
       "      <td>2498.000000</td>\n",
       "      <td>2498.000000</td>\n",
       "      <td>2498.000000</td>\n",
       "    </tr>\n",
       "    <tr>\n",
       "      <th>mean</th>\n",
       "      <td>12413.030424</td>\n",
       "      <td>12009.280661</td>\n",
       "      <td>5685.203911</td>\n",
       "      <td>10.075661</td>\n",
       "      <td>15244.559648</td>\n",
       "      <td>0.906325</td>\n",
       "      <td>705.858687</td>\n",
       "      <td>41.265012</td>\n",
       "      <td>13.070368</td>\n",
       "      <td>15.385420</td>\n",
       "    </tr>\n",
       "    <tr>\n",
       "      <th>std</th>\n",
       "      <td>7801.222483</td>\n",
       "      <td>7743.387861</td>\n",
       "      <td>3959.527984</td>\n",
       "      <td>4.508644</td>\n",
       "      <td>18308.549795</td>\n",
       "      <td>1.231036</td>\n",
       "      <td>34.994039</td>\n",
       "      <td>9.933753</td>\n",
       "      <td>4.178007</td>\n",
       "      <td>7.501673</td>\n",
       "    </tr>\n",
       "    <tr>\n",
       "      <th>min</th>\n",
       "      <td>1000.000000</td>\n",
       "      <td>-0.010000</td>\n",
       "      <td>588.500000</td>\n",
       "      <td>2.000000</td>\n",
       "      <td>0.000000</td>\n",
       "      <td>0.000000</td>\n",
       "      <td>640.000000</td>\n",
       "      <td>36.000000</td>\n",
       "      <td>5.420000</td>\n",
       "      <td>0.000000</td>\n",
       "    </tr>\n",
       "    <tr>\n",
       "      <th>25%</th>\n",
       "      <td>6000.000000</td>\n",
       "      <td>6000.000000</td>\n",
       "      <td>3500.000000</td>\n",
       "      <td>7.000000</td>\n",
       "      <td>5585.750000</td>\n",
       "      <td>0.000000</td>\n",
       "      <td>680.000000</td>\n",
       "      <td>36.000000</td>\n",
       "      <td>10.160000</td>\n",
       "      <td>9.750000</td>\n",
       "    </tr>\n",
       "    <tr>\n",
       "      <th>50%</th>\n",
       "      <td>10000.000000</td>\n",
       "      <td>10000.000000</td>\n",
       "      <td>5000.000000</td>\n",
       "      <td>9.000000</td>\n",
       "      <td>10962.000000</td>\n",
       "      <td>0.000000</td>\n",
       "      <td>700.000000</td>\n",
       "      <td>36.000000</td>\n",
       "      <td>13.110000</td>\n",
       "      <td>15.320000</td>\n",
       "    </tr>\n",
       "    <tr>\n",
       "      <th>75%</th>\n",
       "      <td>17000.000000</td>\n",
       "      <td>16000.000000</td>\n",
       "      <td>6800.000000</td>\n",
       "      <td>13.000000</td>\n",
       "      <td>18888.750000</td>\n",
       "      <td>1.000000</td>\n",
       "      <td>725.000000</td>\n",
       "      <td>36.000000</td>\n",
       "      <td>15.800000</td>\n",
       "      <td>20.677500</td>\n",
       "    </tr>\n",
       "    <tr>\n",
       "      <th>max</th>\n",
       "      <td>35000.000000</td>\n",
       "      <td>35000.000000</td>\n",
       "      <td>102750.000000</td>\n",
       "      <td>38.000000</td>\n",
       "      <td>270800.000000</td>\n",
       "      <td>9.000000</td>\n",
       "      <td>830.000000</td>\n",
       "      <td>60.000000</td>\n",
       "      <td>24.890000</td>\n",
       "      <td>34.910000</td>\n",
       "    </tr>\n",
       "  </tbody>\n",
       "</table>\n",
       "</div>"
      ],
      "text/plain": [
       "       Amount_Requested  Amount_Funded_By_Investors  Monthly_Income  \\\n",
       "count       2498.000000                 2498.000000     2498.000000   \n",
       "mean       12413.030424                12009.280661     5685.203911   \n",
       "std         7801.222483                 7743.387861     3959.527984   \n",
       "min         1000.000000                   -0.010000      588.500000   \n",
       "25%         6000.000000                 6000.000000     3500.000000   \n",
       "50%        10000.000000                10000.000000     5000.000000   \n",
       "75%        17000.000000                16000.000000     6800.000000   \n",
       "max        35000.000000                35000.000000   102750.000000   \n",
       "\n",
       "       Open_CREDIT_Lines  Revolving_CREDIT_Balance  \\\n",
       "count        2498.000000               2498.000000   \n",
       "mean           10.075661              15244.559648   \n",
       "std             4.508644              18308.549795   \n",
       "min             2.000000                  0.000000   \n",
       "25%             7.000000               5585.750000   \n",
       "50%             9.000000              10962.000000   \n",
       "75%            13.000000              18888.750000   \n",
       "max            38.000000             270800.000000   \n",
       "\n",
       "       Inquiries_in_the_Last_6_Months         FICO  loan_length  \\\n",
       "count                     2498.000000  2498.000000  2498.000000   \n",
       "mean                         0.906325   705.858687    41.265012   \n",
       "std                          1.231036    34.994039     9.933753   \n",
       "min                          0.000000   640.000000    36.000000   \n",
       "25%                          0.000000   680.000000    36.000000   \n",
       "50%                          0.000000   700.000000    36.000000   \n",
       "75%                          1.000000   725.000000    36.000000   \n",
       "max                          9.000000   830.000000    60.000000   \n",
       "\n",
       "       interest_rate  debt_to_income_ratio  \n",
       "count    2498.000000           2498.000000  \n",
       "mean       13.070368             15.385420  \n",
       "std         4.178007              7.501673  \n",
       "min         5.420000              0.000000  \n",
       "25%        10.160000              9.750000  \n",
       "50%        13.110000             15.320000  \n",
       "75%        15.800000             20.677500  \n",
       "max        24.890000             34.910000  "
      ]
     },
     "execution_count": 17,
     "metadata": {},
     "output_type": "execute_result"
    }
   ],
   "source": [
    "data.describe()"
   ]
  },
  {
   "cell_type": "markdown",
   "metadata": {},
   "source": [
    "Проверим корреляцию"
   ]
  },
  {
   "cell_type": "code",
   "execution_count": 18,
   "metadata": {
    "collapsed": false
   },
   "outputs": [
    {
     "data": {
      "text/html": [
       "<div>\n",
       "<table border=\"1\" class=\"dataframe\">\n",
       "  <thead>\n",
       "    <tr style=\"text-align: right;\">\n",
       "      <th></th>\n",
       "      <th>Amount_Requested</th>\n",
       "      <th>Amount_Funded_By_Investors</th>\n",
       "      <th>Monthly_Income</th>\n",
       "      <th>Open_CREDIT_Lines</th>\n",
       "      <th>Revolving_CREDIT_Balance</th>\n",
       "      <th>Inquiries_in_the_Last_6_Months</th>\n",
       "      <th>FICO</th>\n",
       "      <th>loan_length</th>\n",
       "      <th>interest_rate</th>\n",
       "      <th>debt_to_income_ratio</th>\n",
       "    </tr>\n",
       "  </thead>\n",
       "  <tbody>\n",
       "    <tr>\n",
       "      <th>Amount_Requested</th>\n",
       "      <td>1.000000</td>\n",
       "      <td>0.969841</td>\n",
       "      <td>0.391179</td>\n",
       "      <td>0.195942</td>\n",
       "      <td>0.293365</td>\n",
       "      <td>-0.029561</td>\n",
       "      <td>0.083378</td>\n",
       "      <td>0.412298</td>\n",
       "      <td>0.331831</td>\n",
       "      <td>0.081288</td>\n",
       "    </tr>\n",
       "    <tr>\n",
       "      <th>Amount_Funded_By_Investors</th>\n",
       "      <td>0.969841</td>\n",
       "      <td>1.000000</td>\n",
       "      <td>0.374377</td>\n",
       "      <td>0.185826</td>\n",
       "      <td>0.261892</td>\n",
       "      <td>-0.067757</td>\n",
       "      <td>0.074284</td>\n",
       "      <td>0.406218</td>\n",
       "      <td>0.336830</td>\n",
       "      <td>0.093679</td>\n",
       "    </tr>\n",
       "    <tr>\n",
       "      <th>Monthly_Income</th>\n",
       "      <td>0.391179</td>\n",
       "      <td>0.374377</td>\n",
       "      <td>1.000000</td>\n",
       "      <td>0.171396</td>\n",
       "      <td>0.359684</td>\n",
       "      <td>0.033948</td>\n",
       "      <td>0.122714</td>\n",
       "      <td>0.074545</td>\n",
       "      <td>0.012921</td>\n",
       "      <td>-0.162345</td>\n",
       "    </tr>\n",
       "    <tr>\n",
       "      <th>Open_CREDIT_Lines</th>\n",
       "      <td>0.195942</td>\n",
       "      <td>0.185826</td>\n",
       "      <td>0.171396</td>\n",
       "      <td>1.000000</td>\n",
       "      <td>0.290085</td>\n",
       "      <td>0.110736</td>\n",
       "      <td>-0.089443</td>\n",
       "      <td>0.040890</td>\n",
       "      <td>0.090307</td>\n",
       "      <td>0.370850</td>\n",
       "    </tr>\n",
       "    <tr>\n",
       "      <th>Revolving_CREDIT_Balance</th>\n",
       "      <td>0.293365</td>\n",
       "      <td>0.261892</td>\n",
       "      <td>0.359684</td>\n",
       "      <td>0.290085</td>\n",
       "      <td>1.000000</td>\n",
       "      <td>0.012186</td>\n",
       "      <td>0.002917</td>\n",
       "      <td>0.055436</td>\n",
       "      <td>0.061109</td>\n",
       "      <td>0.189221</td>\n",
       "    </tr>\n",
       "    <tr>\n",
       "      <th>Inquiries_in_the_Last_6_Months</th>\n",
       "      <td>-0.029561</td>\n",
       "      <td>-0.067757</td>\n",
       "      <td>0.033948</td>\n",
       "      <td>0.110736</td>\n",
       "      <td>0.012186</td>\n",
       "      <td>1.000000</td>\n",
       "      <td>-0.092165</td>\n",
       "      <td>0.023842</td>\n",
       "      <td>0.164646</td>\n",
       "      <td>0.011979</td>\n",
       "    </tr>\n",
       "    <tr>\n",
       "      <th>FICO</th>\n",
       "      <td>0.083378</td>\n",
       "      <td>0.074284</td>\n",
       "      <td>0.122714</td>\n",
       "      <td>-0.089443</td>\n",
       "      <td>0.002917</td>\n",
       "      <td>-0.092165</td>\n",
       "      <td>1.000000</td>\n",
       "      <td>0.012703</td>\n",
       "      <td>-0.709216</td>\n",
       "      <td>-0.216963</td>\n",
       "    </tr>\n",
       "    <tr>\n",
       "      <th>loan_length</th>\n",
       "      <td>0.412298</td>\n",
       "      <td>0.406218</td>\n",
       "      <td>0.074545</td>\n",
       "      <td>0.040890</td>\n",
       "      <td>0.055436</td>\n",
       "      <td>0.023842</td>\n",
       "      <td>0.012703</td>\n",
       "      <td>1.000000</td>\n",
       "      <td>0.423506</td>\n",
       "      <td>0.024991</td>\n",
       "    </tr>\n",
       "    <tr>\n",
       "      <th>interest_rate</th>\n",
       "      <td>0.331831</td>\n",
       "      <td>0.336830</td>\n",
       "      <td>0.012921</td>\n",
       "      <td>0.090307</td>\n",
       "      <td>0.061109</td>\n",
       "      <td>0.164646</td>\n",
       "      <td>-0.709216</td>\n",
       "      <td>0.423506</td>\n",
       "      <td>1.000000</td>\n",
       "      <td>0.172203</td>\n",
       "    </tr>\n",
       "    <tr>\n",
       "      <th>debt_to_income_ratio</th>\n",
       "      <td>0.081288</td>\n",
       "      <td>0.093679</td>\n",
       "      <td>-0.162345</td>\n",
       "      <td>0.370850</td>\n",
       "      <td>0.189221</td>\n",
       "      <td>0.011979</td>\n",
       "      <td>-0.216963</td>\n",
       "      <td>0.024991</td>\n",
       "      <td>0.172203</td>\n",
       "      <td>1.000000</td>\n",
       "    </tr>\n",
       "  </tbody>\n",
       "</table>\n",
       "</div>"
      ],
      "text/plain": [
       "                                Amount_Requested  Amount_Funded_By_Investors  \\\n",
       "Amount_Requested                        1.000000                    0.969841   \n",
       "Amount_Funded_By_Investors              0.969841                    1.000000   \n",
       "Monthly_Income                          0.391179                    0.374377   \n",
       "Open_CREDIT_Lines                       0.195942                    0.185826   \n",
       "Revolving_CREDIT_Balance                0.293365                    0.261892   \n",
       "Inquiries_in_the_Last_6_Months         -0.029561                   -0.067757   \n",
       "FICO                                    0.083378                    0.074284   \n",
       "loan_length                             0.412298                    0.406218   \n",
       "interest_rate                           0.331831                    0.336830   \n",
       "debt_to_income_ratio                    0.081288                    0.093679   \n",
       "\n",
       "                                Monthly_Income  Open_CREDIT_Lines  \\\n",
       "Amount_Requested                      0.391179           0.195942   \n",
       "Amount_Funded_By_Investors            0.374377           0.185826   \n",
       "Monthly_Income                        1.000000           0.171396   \n",
       "Open_CREDIT_Lines                     0.171396           1.000000   \n",
       "Revolving_CREDIT_Balance              0.359684           0.290085   \n",
       "Inquiries_in_the_Last_6_Months        0.033948           0.110736   \n",
       "FICO                                  0.122714          -0.089443   \n",
       "loan_length                           0.074545           0.040890   \n",
       "interest_rate                         0.012921           0.090307   \n",
       "debt_to_income_ratio                 -0.162345           0.370850   \n",
       "\n",
       "                                Revolving_CREDIT_Balance  \\\n",
       "Amount_Requested                                0.293365   \n",
       "Amount_Funded_By_Investors                      0.261892   \n",
       "Monthly_Income                                  0.359684   \n",
       "Open_CREDIT_Lines                               0.290085   \n",
       "Revolving_CREDIT_Balance                        1.000000   \n",
       "Inquiries_in_the_Last_6_Months                  0.012186   \n",
       "FICO                                            0.002917   \n",
       "loan_length                                     0.055436   \n",
       "interest_rate                                   0.061109   \n",
       "debt_to_income_ratio                            0.189221   \n",
       "\n",
       "                                Inquiries_in_the_Last_6_Months      FICO  \\\n",
       "Amount_Requested                                     -0.029561  0.083378   \n",
       "Amount_Funded_By_Investors                           -0.067757  0.074284   \n",
       "Monthly_Income                                        0.033948  0.122714   \n",
       "Open_CREDIT_Lines                                     0.110736 -0.089443   \n",
       "Revolving_CREDIT_Balance                              0.012186  0.002917   \n",
       "Inquiries_in_the_Last_6_Months                        1.000000 -0.092165   \n",
       "FICO                                                 -0.092165  1.000000   \n",
       "loan_length                                           0.023842  0.012703   \n",
       "interest_rate                                         0.164646 -0.709216   \n",
       "debt_to_income_ratio                                  0.011979 -0.216963   \n",
       "\n",
       "                                loan_length  interest_rate  \\\n",
       "Amount_Requested                   0.412298       0.331831   \n",
       "Amount_Funded_By_Investors         0.406218       0.336830   \n",
       "Monthly_Income                     0.074545       0.012921   \n",
       "Open_CREDIT_Lines                  0.040890       0.090307   \n",
       "Revolving_CREDIT_Balance           0.055436       0.061109   \n",
       "Inquiries_in_the_Last_6_Months     0.023842       0.164646   \n",
       "FICO                               0.012703      -0.709216   \n",
       "loan_length                        1.000000       0.423506   \n",
       "interest_rate                      0.423506       1.000000   \n",
       "debt_to_income_ratio               0.024991       0.172203   \n",
       "\n",
       "                                debt_to_income_ratio  \n",
       "Amount_Requested                            0.081288  \n",
       "Amount_Funded_By_Investors                  0.093679  \n",
       "Monthly_Income                             -0.162345  \n",
       "Open_CREDIT_Lines                           0.370850  \n",
       "Revolving_CREDIT_Balance                    0.189221  \n",
       "Inquiries_in_the_Last_6_Months              0.011979  \n",
       "FICO                                       -0.216963  \n",
       "loan_length                                 0.024991  \n",
       "interest_rate                               0.172203  \n",
       "debt_to_income_ratio                        1.000000  "
      ]
     },
     "execution_count": 18,
     "metadata": {},
     "output_type": "execute_result"
    }
   ],
   "source": [
    "data.corr()"
   ]
  },
  {
   "cell_type": "markdown",
   "metadata": {},
   "source": [
    "Единственное, что толкового можно понять из сводных данных, так это то, что большинство хотят занять деньги на 3 года. Сильно заметной корреляции между FICO и месячным доходом также нет. Строим графики, чтобы разобраться получше."
   ]
  },
  {
   "cell_type": "code",
   "execution_count": 41,
   "metadata": {
    "collapsed": false
   },
   "outputs": [
    {
     "data": {
      "text/plain": [
       "<matplotlib.axes._subplots.AxesSubplot at 0x1c385d131d0>"
      ]
     },
     "execution_count": 41,
     "metadata": {},
     "output_type": "execute_result"
    },
    {
     "data": {
      "image/png": "[encoded data removed]",
      "text/plain": [
       "<matplotlib.figure.Figure at 0x1c3845816a0>"
      ]
     },
     "metadata": {},
     "output_type": "display_data"
    }
   ],
   "source": [
    "%matplotlib inline\n",
    "plt.figure()\n",
    "data[\"Open_CREDIT_Lines\"].hist(bins=38)"
   ]
  },
  {
   "cell_type": "code",
   "execution_count": 42,
   "metadata": {
    "collapsed": false
   },
   "outputs": [
    {
     "data": {
      "text/plain": [
       "<matplotlib.axes._subplots.AxesSubplot at 0x1c385d62b00>"
      ]
     },
     "execution_count": 42,
     "metadata": {},
     "output_type": "execute_result"
    },
    {
     "data": {
      "image/png": "[encoded data removed]",
      "text/plain": [
       "<matplotlib.figure.Figure at 0x1c385c06ac8>"
      ]
     },
     "metadata": {},
     "output_type": "display_data"
    }
   ],
   "source": [
    "plt.figure()\n",
    "data[\"Revolving_CREDIT_Balance\"].hist(bins=50)"
   ]
  },
  {
   "cell_type": "code",
   "execution_count": 43,
   "metadata": {
    "collapsed": false
   },
   "outputs": [
    {
     "data": {
      "text/plain": [
       "<matplotlib.axes._subplots.AxesSubplot at 0x1c384097470>"
      ]
     },
     "execution_count": 43,
     "metadata": {},
     "output_type": "execute_result"
    },
    {
     "data": {
      "image/png": "[encoded data removed]",
      "text/plain": [
       "<matplotlib.figure.Figure at 0x1c384097358>"
      ]
     },
     "metadata": {},
     "output_type": "display_data"
    }
   ],
   "source": [
    "plt.figure()\n",
    "data[\"debt_to_income_ratio\"].hist(bins=60)"
   ]
  },
  {
   "cell_type": "markdown",
   "metadata": {},
   "source": [
    "А сейчас мы построим график зависимости процента от кредитного рейтинга"
   ]
  },
  {
   "cell_type": "code",
   "execution_count": 44,
   "metadata": {
    "collapsed": false
   },
   "outputs": [
    {
     "data": {
      "image/png": "[encoded data removed]",
      "text/plain": [
       "<matplotlib.figure.Figure at 0x1c384aa9d30>"
      ]
     },
     "metadata": {},
     "output_type": "display_data"
    }
   ],
   "source": [
    "data.boxplot(column=\"interest_rate\", by=\"FICO\",figsize=(16,4));"
   ]
  },
  {
   "cell_type": "markdown",
   "metadata": {},
   "source": [
    "На всякий случай сделаем факторную переменную:"
   ]
  },
  {
   "cell_type": "code",
   "execution_count": 45,
   "metadata": {
    "collapsed": false
   },
   "outputs": [],
   "source": [
    "data['FICO_Factor'] = pd.factorize(data['FICO_Range'])[0]"
   ]
  },
  {
   "cell_type": "markdown",
   "metadata": {},
   "source": [
    "Логичная ситуация - чем меньше рейтинг, тем больше процент и его разброс. Надо проверить, оказывает ли он влияение на итоговый процент займа"
   ]
  },
  {
   "cell_type": "code",
   "execution_count": 46,
   "metadata": {
    "collapsed": false
   },
   "outputs": [
    {
     "data": {
      "image/png": "[encoded data removed]",
      "text/plain": [
       "<matplotlib.figure.Figure at 0x1c384a4cb00>"
      ]
     },
     "metadata": {},
     "output_type": "display_data"
    }
   ],
   "source": [
    "data.plot(x='debt_to_income_ratio', y='interest_rate', style='o', markersize=4);"
   ]
  },
  {
   "cell_type": "code",
   "execution_count": 47,
   "metadata": {
    "collapsed": false
   },
   "outputs": [
    {
     "name": "stdout",
     "output_type": "stream",
     "text": [
      "                          df        sum_sq      mean_sq          F  \\\n",
      "debt_to_income_ratio     1.0   1292.519838  1292.519838  76.277803   \n",
      "Residual              2496.0  42294.473223    16.944901        NaN   \n",
      "\n",
      "                            PR(>F)  \n",
      "debt_to_income_ratio  4.428487e-18  \n",
      "Residual                       NaN  \n"
     ]
    }
   ],
   "source": [
    "formula = 'interest_rate ~ debt_to_income_ratio'\n",
    "lm = ols(formula, data).fit()\n",
    "print (anova_lm(lm))"
   ]
  },
  {
   "cell_type": "markdown",
   "metadata": {},
   "source": [
    "Тут можно предположить, что % по займу будет расти вместе с ростом отношения запрашиваемой суммы к месячному доходу. А результаты проверки говорят, что так оно и есть.\n",
    "\n",
    "А вот стаж на месте работы в Америке не особо влияет на займы:"
   ]
  },
  {
   "cell_type": "code",
   "execution_count": 48,
   "metadata": {
    "collapsed": false
   },
   "outputs": [
    {
     "data": {
      "text/plain": [
       "<matplotlib.axes._subplots.AxesSubplot at 0x1c385eec470>"
      ]
     },
     "execution_count": 48,
     "metadata": {},
     "output_type": "execute_result"
    },
    {
     "data": {
      "image/png": "[encoded data removed]",
      "text/plain": [
       "<matplotlib.figure.Figure at 0x1c385ca49b0>"
      ]
     },
     "metadata": {},
     "output_type": "display_data"
    }
   ],
   "source": [
    "data.boxplot(column=\"interest_rate\", by=\"Employment_Length\",figsize=(16,4))"
   ]
  },
  {
   "cell_type": "code",
   "execution_count": 49,
   "metadata": {
    "collapsed": false
   },
   "outputs": [
    {
     "name": "stdout",
     "output_type": "stream",
     "text": [
      "                          df        sum_sq    mean_sq         F    PR(>F)\n",
      "C(Employment_Length)    11.0    183.916057  16.719642  0.957652  0.483354\n",
      "Residual              2486.0  43403.077004  17.459001       NaN       NaN\n"
     ]
    }
   ],
   "source": [
    "formula = 'interest_rate ~ C(Employment_Length)'\n",
    "lm = ols(formula, data).fit()\n",
    "anovaResults = anova_lm(lm)\n",
    "print(anovaResults)"
   ]
  },
  {
   "cell_type": "markdown",
   "metadata": {},
   "source": [
    "Теперь такой же графики для цели займа:"
   ]
  },
  {
   "cell_type": "code",
   "execution_count": 50,
   "metadata": {
    "collapsed": false
   },
   "outputs": [
    {
     "data": {
      "text/plain": [
       "<matplotlib.axes._subplots.AxesSubplot at 0x1c383f780f0>"
      ]
     },
     "execution_count": 50,
     "metadata": {},
     "output_type": "execute_result"
    },
    {
     "data": {
      "image/png": "[encoded data removed]",
      "text/plain": [
       "<matplotlib.figure.Figure at 0x1c384ab0f98>"
      ]
     },
     "metadata": {},
     "output_type": "display_data"
    }
   ],
   "source": [
    "data.boxplot(column=\"interest_rate\", by=\"Loan_Purpose\",figsize=(20,4))"
   ]
  },
  {
   "cell_type": "markdown",
   "metadata": {},
   "source": [
    "Ура. Ещё одна переменная, которая влияет на процент"
   ]
  },
  {
   "cell_type": "code",
   "execution_count": 51,
   "metadata": {
    "collapsed": false
   },
   "outputs": [
    {
     "name": "stdout",
     "output_type": "stream",
     "text": [
      "                     df        sum_sq     mean_sq         F        PR(>F)\n",
      "C(Loan_Purpose)    13.0   1630.161027  125.397002  7.423967  1.608494e-14\n",
      "Residual         2484.0  41956.832034   16.890834       NaN           NaN\n"
     ]
    }
   ],
   "source": [
    "formula = 'interest_rate ~ C(Loan_Purpose)'\n",
    "lm = ols(formula, data).fit()\n",
    "anovaResults = anova_lm(lm)\n",
    "print(anovaResults)\n",
    "  "
   ]
  },
  {
   "cell_type": "code",
   "execution_count": 52,
   "metadata": {
    "collapsed": false
   },
   "outputs": [
    {
     "data": {
      "text/plain": [
       "<matplotlib.axes._subplots.AxesSubplot at 0x1c385f09eb8>"
      ]
     },
     "execution_count": 52,
     "metadata": {},
     "output_type": "execute_result"
    },
    {
     "data": {
      "image/png": "[encoded data removed]",
      "text/plain": [
       "<matplotlib.figure.Figure at 0x1c383e90390>"
      ]
     },
     "metadata": {},
     "output_type": "display_data"
    }
   ],
   "source": [
    "data.boxplot(column=\"interest_rate\", by=\"Home_Ownership\",figsize=(8,4))"
   ]
  },
  {
   "cell_type": "code",
   "execution_count": 53,
   "metadata": {
    "collapsed": false
   },
   "outputs": [
    {
     "name": "stdout",
     "output_type": "stream",
     "text": [
      "                       df        sum_sq     mean_sq         F    PR(>F)\n",
      "C(Home_Ownership)     3.0    310.900041  103.633347  5.972387  0.000471\n",
      "Residual           2494.0  43276.093020   17.352082       NaN       NaN\n"
     ]
    }
   ],
   "source": [
    "formula = 'interest_rate ~ C(Home_Ownership)'\n",
    "lm = ols(formula, data).fit()\n",
    "anovaResults = anova_lm(lm)\n",
    "print(anovaResults)"
   ]
  },
  {
   "cell_type": "markdown",
   "metadata": {},
   "source": [
    "Построим гистограмму месячного дохода"
   ]
  },
  {
   "cell_type": "code",
   "execution_count": 54,
   "metadata": {
    "collapsed": false
   },
   "outputs": [
    {
     "data": {
      "text/plain": [
       "<matplotlib.axes._subplots.AxesSubplot at 0x1c383f04b00>"
      ]
     },
     "execution_count": 54,
     "metadata": {},
     "output_type": "execute_result"
    },
    {
     "data": {
      "image/png": "[encoded data removed]",
      "text/plain": [
       "<matplotlib.figure.Figure at 0x1c383f6fcc0>"
      ]
     },
     "metadata": {},
     "output_type": "display_data"
    }
   ],
   "source": [
    "plt.figure()\n",
    "data[\"Monthly_Income\"].hist(bins=60)"
   ]
  },
  {
   "cell_type": "markdown",
   "metadata": {},
   "source": [
    "Не слишком информативно. Попробуем перейти к логарифмической шкале."
   ]
  },
  {
   "cell_type": "code",
   "execution_count": 55,
   "metadata": {
    "collapsed": false
   },
   "outputs": [
    {
     "data": {
      "image/png": "[encoded data removed]",
      "text/plain": [
       "<matplotlib.figure.Figure at 0x1c386136400>"
      ]
     },
     "metadata": {},
     "output_type": "display_data"
    }
   ],
   "source": [
    "fig, ax = plt.subplots()\n",
    "data[\"Monthly_Income\"].hist(ax=ax, bins=60, bottom=0.1)\n",
    "ax.set_yscale('log')"
   ]
  },
  {
   "cell_type": "markdown",
   "metadata": {},
   "source": [
    "Получается что у нас есть статистические выбросы. Построим график зависимости процента от дохода без них:"
   ]
  },
  {
   "cell_type": "code",
   "execution_count": 56,
   "metadata": {
    "collapsed": false
   },
   "outputs": [
    {
     "data": {
      "image/png": "[encoded data removed]",
      "text/plain": [
       "<matplotlib.figure.Figure at 0x1c38794da58>"
      ]
     },
     "metadata": {},
     "output_type": "display_data"
    }
   ],
   "source": [
    "data[data[\"Monthly_Income\"] < 30000].plot(x='Monthly_Income', y='interest_rate', style='o', markersize=4);"
   ]
  },
  {
   "cell_type": "markdown",
   "metadata": {},
   "source": [
    "Пора проверить статистическую значимость:"
   ]
  },
  {
   "cell_type": "code",
   "execution_count": 57,
   "metadata": {
    "collapsed": false
   },
   "outputs": [
    {
     "name": "stdout",
     "output_type": "stream",
     "text": [
      "                    df        sum_sq    mean_sq        F    PR(>F)\n",
      "Monthly_Income     1.0      7.277085   7.277085  0.41679  0.518602\n",
      "Residual        2496.0  43579.715976  17.459822      NaN       NaN\n"
     ]
    }
   ],
   "source": [
    "formula = 'interest_rate ~ Monthly_Income'\n",
    "lm = ols(formula, data).fit()\n",
    "print (anova_lm(lm))"
   ]
  },
  {
   "cell_type": "code",
   "execution_count": 58,
   "metadata": {
    "collapsed": false
   },
   "outputs": [
    {
     "data": {
      "image/png": "[encoded data removed]",
      "text/plain": [
       "<matplotlib.figure.Figure at 0x1c386841a20>"
      ]
     },
     "metadata": {},
     "output_type": "display_data"
    }
   ],
   "source": [
    "fig, ax = plt.subplots()\n",
    "data[data[\"Monthly_Income\"] < 30000].plot(ax=ax,x='Monthly_Income', y='interest_rate', style='o', markersize=4);\n",
    "plt.plot(data['Monthly_Income'],lm.fittedvalues,'b');\n",
    "ax.set_xscale('log')"
   ]
  },
  {
   "cell_type": "markdown",
   "metadata": {},
   "source": [
    "Теперь посмотрим на график процента в зависимости от запрощенной суммы"
   ]
  },
  {
   "cell_type": "code",
   "execution_count": 59,
   "metadata": {
    "collapsed": false
   },
   "outputs": [
    {
     "name": "stdout",
     "output_type": "stream",
     "text": [
      "                      df        sum_sq      mean_sq           F        PR(>F)\n",
      "Amount_Requested     1.0   4799.447651  4799.447651  308.847111  2.828310e-65\n",
      "Residual          2496.0  38787.545411    15.539882         NaN           NaN\n"
     ]
    }
   ],
   "source": [
    "formula = 'interest_rate ~ Amount_Requested'\n",
    "lm = ols(formula, data).fit()\n",
    "print (anova_lm(lm))"
   ]
  },
  {
   "cell_type": "code",
   "execution_count": 60,
   "metadata": {
    "collapsed": false
   },
   "outputs": [
    {
     "data": {
      "text/plain": [
       "<matplotlib.figure.Figure at 0x1c3863cf320>"
      ]
     },
     "metadata": {},
     "output_type": "display_data"
    },
    {
     "data": {
      "image/png": "[encoded data removed]",
      "text/plain": [
       "<matplotlib.figure.Figure at 0x1c387ae80b8>"
      ]
     },
     "metadata": {},
     "output_type": "display_data"
    }
   ],
   "source": [
    "plt.figure()\n",
    "data.plot(x='Amount_Requested', y='interest_rate', style='o', markersize=4);\n",
    "plt.plot(data['Amount_Requested'],lm.fittedvalues,'b');"
   ]
  },
  {
   "cell_type": "code",
   "execution_count": 61,
   "metadata": {
    "collapsed": false
   },
   "outputs": [
    {
     "data": {
      "text/plain": [
       "<matplotlib.axes._subplots.AxesSubplot at 0x1c388d20390>"
      ]
     },
     "execution_count": 61,
     "metadata": {},
     "output_type": "execute_result"
    },
    {
     "data": {
      "image/png": "[encoded data removed]",
      "text/plain": [
       "<matplotlib.figure.Figure at 0x1c388d90208>"
      ]
     },
     "metadata": {},
     "output_type": "display_data"
    }
   ],
   "source": [
    "data.boxplot(column=\"interest_rate\", by=\"Loan_Length\",figsize=(8,4))"
   ]
  },
  {
   "cell_type": "code",
   "execution_count": 62,
   "metadata": {
    "collapsed": false
   },
   "outputs": [
    {
     "name": "stdout",
     "output_type": "stream",
     "text": [
      "                            OLS Regression Results                            \n",
      "==============================================================================\n",
      "Dep. Variable:          interest_rate   R-squared:                       0.753\n",
      "Model:                            OLS   Adj. R-squared:                  0.751\n",
      "Method:                 Least Squares   F-statistic:                     418.8\n",
      "Date:                Wed, 01 Jun 2016   Prob (F-statistic):               0.00\n",
      "Time:                        13:31:44   Log-Likelihood:                -5371.5\n",
      "No. Observations:                2498   AIC:                         1.078e+04\n",
      "Df Residuals:                    2479   BIC:                         1.089e+04\n",
      "Df Model:                          18                                         \n",
      "Covariance Type:            nonrobust                                         \n",
      "=========================================================================================================\n",
      "                                            coef    std err          t      P>|t|      [95.0% Conf. Int.]\n",
      "---------------------------------------------------------------------------------------------------------\n",
      "Intercept                                73.5085      0.974     75.471      0.000        71.599    75.418\n",
      "C(Loan_Purpose)[T.credit_card]           -0.3376      0.316     -1.067      0.286        -0.958     0.283\n",
      "C(Loan_Purpose)[T.debt_consolidation]    -0.1422      0.306     -0.465      0.642        -0.741     0.457\n",
      "C(Loan_Purpose)[T.educational]            0.6830      0.615      1.110      0.267        -0.524     1.890\n",
      "C(Loan_Purpose)[T.home_improvement]      -0.0685      0.342     -0.201      0.841        -0.738     0.601\n",
      "C(Loan_Purpose)[T.house]                  0.8813      0.553      1.593      0.111        -0.203     1.966\n",
      "C(Loan_Purpose)[T.major_purchase]         0.2501      0.361      0.692      0.489        -0.459     0.959\n",
      "C(Loan_Purpose)[T.medical]                0.0017      0.483      0.003      0.997        -0.945     0.948\n",
      "C(Loan_Purpose)[T.moving]                 1.1506      0.488      2.358      0.018         0.194     2.108\n",
      "C(Loan_Purpose)[T.other]                  0.7374      0.332      2.224      0.026         0.087     1.388\n",
      "C(Loan_Purpose)[T.renewable_energy]       0.2618      1.085      0.241      0.809        -1.866     2.389\n",
      "C(Loan_Purpose)[T.small_business]         0.4940      0.372      1.327      0.185        -0.236     1.224\n",
      "C(Loan_Purpose)[T.vacation]               0.5837      0.543      1.075      0.282        -0.481     1.648\n",
      "C(Loan_Purpose)[T.wedding]               -0.5335      0.448     -1.191      0.234        -1.412     0.345\n",
      "Loan_Length[T.60 months]                  3.1742      0.113     28.148      0.000         2.953     3.395\n",
      "Monthly_Income                        -3.739e-05   1.19e-05     -3.146      0.002     -6.07e-05 -1.41e-05\n",
      "FICO                                     -0.0888      0.001    -70.419      0.000        -0.091    -0.086\n",
      "debt_to_income_ratio                     -0.0083      0.006     -1.395      0.163        -0.020     0.003\n",
      "Amount_Requested                          0.0002   6.78e-06     23.160      0.000         0.000     0.000\n",
      "==============================================================================\n",
      "Omnibus:                      126.640   Durbin-Watson:                   1.950\n",
      "Prob(Omnibus):                  0.000   Jarque-Bera (JB):              183.569\n",
      "Skew:                           0.455   Prob(JB):                     1.38e-40\n",
      "Kurtosis:                       3.968   Cond. No.                     4.84e+05\n",
      "==============================================================================\n",
      "\n",
      "Warnings:\n",
      "[1] Standard Errors assume that the covariance matrix of the errors is correctly specified.\n",
      "[2] The condition number is large, 4.84e+05. This might indicate that there are\n",
      "strong multicollinearity or other numerical problems.\n"
     ]
    }
   ],
   "source": [
    "formula = 'interest_rate ~ C(Loan_Purpose) + Monthly_Income + FICO + debt_to_income_ratio + Amount_Requested + Loan_Length'\n",
    "lm = ols(formula, data).fit()\n",
    "print(lm.summary())"
   ]
  },
  {
   "cell_type": "markdown",
   "metadata": {},
   "source": [
    "Вот и отлично. Судя по тому, что R-squared равен 0.75, мы смогли объяснить 75% дисперсии исходных данных. Добавление другие переменных значимого улучшения модели не дало. Можно было заморочиться и добавить в модель комбинации факторов, но это тоже не приведёт к улучшению качества."
   ]
  }
 ],
 "metadata": {
  "kernelspec": {
   "display_name": "Python 3",
   "language": "python",
   "name": "python3"
  },
  "language_info": {
   "codemirror_mode": {
    "name": "ipython",
    "version": 3
   },
   "file_extension": ".py",
   "mimetype": "text/x-python",
   "name": "python",
   "nbconvert_exporter": "python",
   "pygments_lexer": "ipython3",
   "version": "3.5.1"
  }
 },
 "nbformat": 4,
 "nbformat_minor": 0
}
