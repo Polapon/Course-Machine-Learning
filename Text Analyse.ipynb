{
 "cells": [
  {
   "cell_type": "code",
   "execution_count": 1,
   "metadata": {
    "collapsed": false
   },
   "outputs": [],
   "source": [
    "import pandas as pd\n",
    "import numpy  as np\n",
    "import matplotlib.pyplot as plt\n",
    "\n",
    "from sklearn.grid_search      import GridSearchCV\n",
    "from sklearn.svm              import SVC\n",
    "from sklearn.cross_validation import KFold\n",
    "from sklearn                  import datasets\n",
    "from sklearn.feature_extraction.text import TfidfVectorizer\n",
    "\n",
    "newsgroups = datasets.fetch_20newsgroups(\n",
    "                    subset='all', \n",
    "                    categories=['alt.atheism', 'sci.space']\n",
    "            )\n",
    "X, y = newsgroups.data, newsgroups.target"
   ]
  },
  {
   "cell_type": "code",
   "execution_count": 2,
   "metadata": {
    "collapsed": false
   },
   "outputs": [
    {
     "name": "stdout",
     "output_type": "stream",
     "text": [
      "(1786, 28382) (1786L,)\n"
     ]
    }
   ],
   "source": [
    "vectorizer = TfidfVectorizer()\n",
    "\n",
    "vectors = vectorizer.fit_transform(newsgroups.data)\n",
    "print vectors.shape, y.shape"
   ]
  },
  {
   "cell_type": "code",
   "execution_count": 3,
   "metadata": {
    "collapsed": false
   },
   "outputs": [
    {
     "data": {
      "text/plain": [
       "SVC(C=1.0, cache_size=200, class_weight=None, coef0=0.0,\n",
       "  decision_function_shape=None, degree=3, gamma='auto', kernel='linear',\n",
       "  max_iter=-1, probability=False, random_state=241, shrinking=True,\n",
       "  tol=0.001, verbose=False)"
      ]
     },
     "execution_count": 3,
     "metadata": {},
     "output_type": "execute_result"
    }
   ],
   "source": [
    "clf = SVC(kernel='linear', random_state=241)\n",
    "clf.fit(vectors, y)"
   ]
  },
  {
   "cell_type": "code",
   "execution_count": 4,
   "metadata": {
    "collapsed": false
   },
   "outputs": [],
   "source": [
    "grid = {'C': np.power(10.0, np.arange(-5, 6))}\n",
    "cv = KFold(y.size, n_folds=5, shuffle=True, random_state=241)\n",
    "gs = GridSearchCV(clf, grid, scoring='accuracy', cv=cv).fit(vectors, y)"
   ]
  },
  {
   "cell_type": "code",
   "execution_count": 5,
   "metadata": {
    "collapsed": false
   },
   "outputs": [
    {
     "name": "stdout",
     "output_type": "stream",
     "text": [
      "[ 0.29258057  0.12314757  0.         ...,  0.01972862  0.05831336\n",
      "  0.00297347]\n"
     ]
    }
   ],
   "source": [
    "coef_ = np.abs(clf.coef_.toarray()[0])\n",
    "print(coef_)"
   ]
  },
  {
   "cell_type": "code",
   "execution_count": 6,
   "metadata": {
    "collapsed": false
   },
   "outputs": [
    {
     "name": "stdout",
     "output_type": "stream",
     "text": [
      "[22936 15606  5776 21850 23673 17802  5093  5088 12871 24019]\n"
     ]
    }
   ],
   "source": [
    "sort = np.array(coef_).argsort()[-10:]\n",
    "print(sort)"
   ]
  },
  {
   "cell_type": "code",
   "execution_count": 7,
   "metadata": {
    "collapsed": false
   },
   "outputs": [
    {
     "name": "stdout",
     "output_type": "stream",
     "text": [
      "sci\n",
      "keith\n",
      "bible\n",
      "religion\n",
      "sky\n",
      "moon\n",
      "atheists\n",
      "atheism\n",
      "god\n",
      "space\n"
     ]
    }
   ],
   "source": [
    "categories=['alt.atheism', 'sci.space']\n",
    "feature_mapping = vectorizer.get_feature_names()\n",
    "\n",
    "for i in sort:\n",
    "    print(feature_mapping[i])"
   ]
  },
  {
   "cell_type": "code",
   "execution_count": null,
   "metadata": {
    "collapsed": false
   },
   "outputs": [],
   "source": []
  }
 ],
 "metadata": {
  "kernelspec": {
   "display_name": "Python 2",
   "language": "python",
   "name": "python2"
  },
  "language_info": {
   "codemirror_mode": {
    "name": "ipython",
    "version": 2
   },
   "file_extension": ".py",
   "mimetype": "text/x-python",
   "name": "python",
   "nbconvert_exporter": "python",
   "pygments_lexer": "ipython2",
   "version": "2.7.11"
  }
 },
 "nbformat": 4,
 "nbformat_minor": 0
}
