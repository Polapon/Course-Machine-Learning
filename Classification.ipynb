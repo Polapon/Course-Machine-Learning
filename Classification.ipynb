{
 "metadata": {
  "name": "",
  "signature": "sha256:f4aec0db011bd14a59d5866efb30b3e13d8f14c1529f1f9f23a7144c079fc364"
 },
 "nbformat": 3,
 "nbformat_minor": 0,
 "worksheets": [
  {
   "cells": [
    {
     "cell_type": "code",
     "collapsed": false,
     "input": [
      "import numpy as np\n",
      "import pandas as pd\n",
      "from sklearn import metrics\n",
      "from sklearn.metrics import roc_auc_score\n",
      "\n",
      "data = pd.read_csv('classification.csv', sep=',')"
     ],
     "language": "python",
     "metadata": {},
     "outputs": [],
     "prompt_number": 1
    },
    {
     "cell_type": "code",
     "collapsed": false,
     "input": [
      "expected = data['true']\n",
      "predicted = data['pred']\n",
      "print(metrics.classification_report(expected, predicted))\n",
      "print(metrics.confusion_matrix(expected, predicted))"
     ],
     "language": "python",
     "metadata": {},
     "outputs": [
      {
       "output_type": "stream",
       "stream": "stdout",
       "text": [
        "             precision    recall  f1-score   support\n",
        "\n",
        "          0       0.52      0.65      0.58        98\n",
        "          1       0.56      0.42      0.48       102\n",
        "\n",
        "avg / total       0.54      0.54      0.53       200\n",
        "\n",
        "[[64 34]\n",
        " [59 43]]\n"
       ]
      }
     ],
     "prompt_number": 2
    },
    {
     "cell_type": "code",
     "collapsed": false,
     "input": [
      "fp, tp, th = metrics.roc_curve(expected, predicted)\n",
      "roc_auc = metrics.auc(fp, tp)\n",
      "print fp, tp, roc_auc"
     ],
     "language": "python",
     "metadata": {},
     "outputs": [
      {
       "output_type": "stream",
       "stream": "stdout",
       "text": [
        "[ 0.          0.34693878  1.        ] [ 0.          0.42156863  1.        ] 0.53731492597\n"
       ]
      }
     ],
     "prompt_number": 3
    },
    {
     "cell_type": "code",
     "collapsed": false,
     "input": [
      "print(metrics.accuracy_score(expected, predicted))"
     ],
     "language": "python",
     "metadata": {},
     "outputs": [
      {
       "output_type": "stream",
       "stream": "stdout",
       "text": [
        "0.535\n"
       ]
      }
     ],
     "prompt_number": 4
    },
    {
     "cell_type": "code",
     "collapsed": false,
     "input": [
      "print(metrics.precision_score(expected, predicted))"
     ],
     "language": "python",
     "metadata": {},
     "outputs": [
      {
       "output_type": "stream",
       "stream": "stdout",
       "text": [
        "0.558441558442\n"
       ]
      }
     ],
     "prompt_number": 5
    },
    {
     "cell_type": "code",
     "collapsed": false,
     "input": [
      "print(metrics.recall_score(expected, predicted))"
     ],
     "language": "python",
     "metadata": {},
     "outputs": [
      {
       "output_type": "stream",
       "stream": "stdout",
       "text": [
        "0.421568627451\n"
       ]
      }
     ],
     "prompt_number": 6
    },
    {
     "cell_type": "code",
     "collapsed": false,
     "input": [
      "print(metrics.f1_score(expected, predicted))"
     ],
     "language": "python",
     "metadata": {},
     "outputs": [
      {
       "output_type": "stream",
       "stream": "stdout",
       "text": [
        "0.480446927374\n"
       ]
      }
     ],
     "prompt_number": 7
    },
    {
     "cell_type": "code",
     "collapsed": false,
     "input": [
      "data_scores = pd.read_csv('scores.csv')\n",
      "data_scores.head()"
     ],
     "language": "python",
     "metadata": {},
     "outputs": [
      {
       "html": [
        "<div style=\"max-width:1500px;overflow:auto;\">\n",
        "<table border=\"1\" class=\"dataframe\">\n",
        "  <thead>\n",
        "    <tr style=\"text-align: right;\">\n",
        "      <th></th>\n",
        "      <th>true</th>\n",
        "      <th>score_logreg</th>\n",
        "      <th>score_svm</th>\n",
        "      <th>score_knn</th>\n",
        "      <th>score_tree</th>\n",
        "    </tr>\n",
        "  </thead>\n",
        "  <tbody>\n",
        "    <tr>\n",
        "      <th>0</th>\n",
        "      <td>0</td>\n",
        "      <td>0.683832</td>\n",
        "      <td>0.145976</td>\n",
        "      <td>0.787063</td>\n",
        "      <td>0.500000</td>\n",
        "    </tr>\n",
        "    <tr>\n",
        "      <th>1</th>\n",
        "      <td>1</td>\n",
        "      <td>0.801966</td>\n",
        "      <td>0.239511</td>\n",
        "      <td>1.000000</td>\n",
        "      <td>0.833333</td>\n",
        "    </tr>\n",
        "    <tr>\n",
        "      <th>2</th>\n",
        "      <td>0</td>\n",
        "      <td>0.382315</td>\n",
        "      <td>-0.245701</td>\n",
        "      <td>0.000000</td>\n",
        "      <td>0.000000</td>\n",
        "    </tr>\n",
        "    <tr>\n",
        "      <th>3</th>\n",
        "      <td>1</td>\n",
        "      <td>0.506797</td>\n",
        "      <td>-0.137058</td>\n",
        "      <td>0.000000</td>\n",
        "      <td>0.105263</td>\n",
        "    </tr>\n",
        "    <tr>\n",
        "      <th>4</th>\n",
        "      <td>1</td>\n",
        "      <td>0.488781</td>\n",
        "      <td>-0.154148</td>\n",
        "      <td>0.000000</td>\n",
        "      <td>0.105263</td>\n",
        "    </tr>\n",
        "  </tbody>\n",
        "</table>\n",
        "</div>"
       ],
       "metadata": {},
       "output_type": "pyout",
       "prompt_number": 8,
       "text": [
        "   true  score_logreg  score_svm  score_knn  score_tree\n",
        "0     0      0.683832   0.145976   0.787063    0.500000\n",
        "1     1      0.801966   0.239511   1.000000    0.833333\n",
        "2     0      0.382315  -0.245701   0.000000    0.000000\n",
        "3     1      0.506797  -0.137058   0.000000    0.105263\n",
        "4     1      0.488781  -0.154148   0.000000    0.105263"
       ]
      }
     ],
     "prompt_number": 8
    },
    {
     "cell_type": "code",
     "collapsed": false,
     "input": [
      "feature_mapping = data_scores.columns[1:5]\n",
      "print feature_mapping"
     ],
     "language": "python",
     "metadata": {},
     "outputs": [
      {
       "output_type": "stream",
       "stream": "stdout",
       "text": [
        "Index([u'score_logreg', u'score_svm', u'score_knn', u'score_tree'], dtype='object')\n"
       ]
      }
     ],
     "prompt_number": 9
    },
    {
     "cell_type": "code",
     "collapsed": false,
     "input": [
      "y = data_scores['true']\n",
      "X = data_scores.drop('true', axis=1)"
     ],
     "language": "python",
     "metadata": {},
     "outputs": [],
     "prompt_number": 10
    },
    {
     "cell_type": "code",
     "collapsed": false,
     "input": [
      "n_samples, n_features = X.shape\n",
      "print n_samples, n_features"
     ],
     "language": "python",
     "metadata": {},
     "outputs": [
      {
       "output_type": "stream",
       "stream": "stdout",
       "text": [
        "200 4\n"
       ]
      }
     ],
     "prompt_number": 11
    },
    {
     "cell_type": "code",
     "collapsed": false,
     "input": [
      "from sklearn.preprocessing import label_binarize\n",
      "\n",
      "y = label_binarize(y, classes=[0, 1])\n",
      "n_classes = y.shape[1]"
     ],
     "language": "python",
     "metadata": {},
     "outputs": [],
     "prompt_number": 12
    },
    {
     "cell_type": "code",
     "collapsed": false,
     "input": [
      "roc_auc = dict()\n",
      "precision = dict()\n",
      "recall = dict()\n",
      "average_precision = dict()\n",
      "y_true = data_scores['true']\n",
      "\n",
      "for i, feat in enumerate(feature_mapping):\n",
      "    roc_auc[i] = metrics.roc_auc_score(y_true, X[feat])\n",
      "    precision[i], recall[i], _ = metrics.precision_recall_curve(y_true, X[feat])\n",
      "    average_precision[i] = metrics.average_precision_score(y_true, X[feat])\n",
      "    print(\"%13s AUC_ROC: %.3f\" % (feat, roc_auc[i]))"
     ],
     "language": "python",
     "metadata": {},
     "outputs": [
      {
       "output_type": "stream",
       "stream": "stdout",
       "text": [
        " score_logreg AUC_ROC: 0.719\n",
        "    score_svm AUC_ROC: 0.709\n",
        "    score_knn AUC_ROC: 0.635\n",
        "   score_tree AUC_ROC: 0.692\n"
       ]
      }
     ],
     "prompt_number": 13
    },
    {
     "cell_type": "code",
     "collapsed": false,
     "input": [
      "import matplotlib.pyplot as plt\n",
      "\n",
      "plt.clf()\n",
      "plt.plot(recall[0], precision[0], label='Precision-Recall curve')\n",
      "plt.xlabel('Recall')\n",
      "plt.ylabel('Precision')\n",
      "plt.ylim([0.0, 1.05])\n",
      "plt.xlim([0.0, 1.0])\n",
      "plt.title('Precision-Recall example')\n",
      "plt.legend(loc=\"lower left\")\n",
      "plt.show()"
     ],
     "language": "python",
     "metadata": {},
     "outputs": [
      {
       "metadata": {},
       "output_type": "display_data",
       "png": "[encoded data removed]",
       "text": [
        "<matplotlib.figure.Figure at 0x9170fb0>"
       ]
      }
     ],
     "prompt_number": 18
    },
    {
     "cell_type": "code",
     "collapsed": false,
     "input": [
      "plt.clf()\n",
      "\n",
      "for i in range(n_features):\n",
      "    plt.plot(recall[i], precision[i],\n",
      "             label='Precision-Recall curve of class {0} (area={1:0.2f})'\n",
      "             ''.format(i, average_precision[i]))\n",
      "\n",
      "plt.xlim([0.0, 1.0])\n",
      "plt.ylim([0.0, 1.05])\n",
      "plt.xlabel('Recall')\n",
      "plt.ylabel('Precision')\n",
      "plt.title('Extension of Precision-Recall curve to multi-class')\n",
      "plt.legend(loc=\"lower right\")\n",
      "plt.show()"
     ],
     "language": "python",
     "metadata": {},
     "outputs": [
      {
       "metadata": {},
       "output_type": "display_data",
       "png": "[encoded data removed]",
       "text": [
        "<matplotlib.figure.Figure at 0x8f21df0>"
       ]
      }
     ],
     "prompt_number": 16
    },
    {
     "cell_type": "code",
     "collapsed": false,
     "input": [],
     "language": "python",
     "metadata": {},
     "outputs": []
    }
   ],
   "metadata": {}
  }
 ]
}