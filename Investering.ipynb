{
 "metadata": {
  "name": "",
  "signature": "sha256:a153f7b6ab151adac97ae215d3d21d4ec19fc96315a2e464ac478b95764f497f"
 },
 "nbformat": 3,
 "nbformat_minor": 0,
 "worksheets": [
  {
   "cells": [
    {
     "cell_type": "code",
     "collapsed": false,
     "input": [
      "import pandas as pd\n",
      "import os\n",
      "import time\n",
      "from datetime import datetime\n",
      "\n",
      "path = \"/intraQuarter\"\n",
      "\n",
      "def Key_Stats(gather=\"Total Debt/Equity (mrq)\"):\n",
      "    statspath = path+'/_KeyStats'\n",
      "    stock_list = [x[0] for x in os.walk(statspath)]\n",
      "    print(stock_list)\n",
      "    \n",
      "    for each_dir in stock_list[1:]:\n",
      "        each_file = os.listdir(each_dir)\n",
      "        ticker = each_dir.split(\"\\\\\")[1]\n",
      "        if len(each_file) > 0:\n",
      "            for file in each_file:\n",
      "                date_stamp = datetime.strptime(file, '%Y%m%d%H%M%S.html')\n",
      "                unix_time = time.mktime(date_stamp.timetuple())\n",
      "                #print(date_stamp, unix_time)\n",
      "                full_file_path = each_dir+'/'+file\n",
      "                print(full_file_path)\n",
      "                source = open(full_file_path, 'r').read()\n",
      "                print(source)\n",
      "                value = source.split(gather+':</td><td class=\"yfnc_tabledata1\">')[1].split('</td>')[0]\n",
      "                print(ticker+\":\", value)\n",
      "                            \n",
      "            time.sleep(15)\n",
      "\n",
      "\n",
      "         \n",
      "    \n",
      "Key_Stats()"
     ],
     "language": "python",
     "metadata": {},
     "outputs": [
      {
       "output_type": "stream",
       "stream": "stdout",
       "text": [
        "/intraQuarter\n",
        "[]\n"
       ]
      }
     ],
     "prompt_number": 18
    },
    {
     "cell_type": "code",
     "collapsed": false,
     "input": [],
     "language": "python",
     "metadata": {},
     "outputs": []
    }
   ],
   "metadata": {}
  }
 ]
}