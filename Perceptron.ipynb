{
 "metadata": {
  "name": "",
  "signature": "sha256:fe5ddb84765666c6564f0d88c1a8e023aeedb72a21df161832e87652e29a25f8"
 },
 "nbformat": 3,
 "nbformat_minor": 0,
 "worksheets": [
  {
   "cells": [
    {
     "cell_type": "code",
     "collapsed": false,
     "input": [
      "import numpy as np\n",
      "import pandas as pd\n",
      "from sklearn.linear_model import Perceptron\n",
      "\n",
      "data_test = pd.read_csv('perceptron-test.csv', header=None)\n",
      "data_train = pd.read_csv('perceptron-train.csv', header=None)\n",
      "\n",
      "y_test = data_test[0]\n",
      "X_test = data_test.drop([0], axis=1)\n",
      "\n",
      "y_train = data_train[0]\n",
      "X_train = data_train.drop([0], axis=1)\n",
      "\n",
      "clf = Perceptron(random_state=241)\n",
      "clf.fit(X_train, y_train)\n",
      "predictions = clf.predict(X_test)\n"
     ],
     "language": "python",
     "metadata": {},
     "outputs": [],
     "prompt_number": 15
    },
    {
     "cell_type": "code",
     "collapsed": false,
     "input": [
      "from sklearn.metrics import accuracy_score\n",
      "\n",
      "round(accuracy_score(y_test, predictions), 3)"
     ],
     "language": "python",
     "metadata": {},
     "outputs": [
      {
       "metadata": {},
       "output_type": "pyout",
       "prompt_number": 19,
       "text": [
        "0.36"
       ]
      }
     ],
     "prompt_number": 19
    },
    {
     "cell_type": "code",
     "collapsed": false,
     "input": [
      "from sklearn.preprocessing import StandardScaler\n",
      "\n",
      "scaler = StandardScaler()\n",
      "X_train_scaled = scaler.fit_transform(X_train)\n",
      "X_test_scaled = scaler.transform(X_test)"
     ],
     "language": "python",
     "metadata": {},
     "outputs": [],
     "prompt_number": 21
    },
    {
     "cell_type": "code",
     "collapsed": false,
     "input": [
      "clf.fit(X_train_scaled, y_train)\n",
      "predict = clf.predict(X_test_scaled)\n",
      "\n",
      "round(accuracy_score(y_test, predict), 3)"
     ],
     "language": "python",
     "metadata": {},
     "outputs": [
      {
       "metadata": {},
       "output_type": "pyout",
       "prompt_number": 23,
       "text": [
        "0.925"
       ]
      }
     ],
     "prompt_number": 23
    },
    {
     "cell_type": "code",
     "collapsed": false,
     "input": [
      "round(round(accuracy_score(y_test, predict), 3) - round(accuracy_score(y_test, predictions), 3), 3)"
     ],
     "language": "python",
     "metadata": {},
     "outputs": [
      {
       "metadata": {},
       "output_type": "pyout",
       "prompt_number": 25,
       "text": [
        "0.565"
       ]
      }
     ],
     "prompt_number": 25
    },
    {
     "cell_type": "code",
     "collapsed": false,
     "input": [],
     "language": "python",
     "metadata": {},
     "outputs": []
    }
   ],
   "metadata": {}
  }
 ]
}