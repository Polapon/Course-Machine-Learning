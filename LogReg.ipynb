{
 "metadata": {
  "name": "",
  "signature": "sha256:780563179ec05ad9ece134adddaf9e686c6fac3cbd374f15ac31dacf8dcca29b"
 },
 "nbformat": 3,
 "nbformat_minor": 0,
 "worksheets": [
  {
   "cells": [
    {
     "cell_type": "code",
     "collapsed": false,
     "input": [
      "import numpy as np\n",
      "import pandas as pd\n",
      "from sklearn.metrics import roc_auc_score\n",
      "\n",
      "data = pd.read_csv('data-logistic.csv', header=None)\n",
      "y = data[0]\n",
      "X1 = data[1]\n",
      "X2 = data[2]"
     ],
     "language": "python",
     "metadata": {},
     "outputs": [],
     "prompt_number": 33
    },
    {
     "cell_type": "code",
     "collapsed": false,
     "input": [
      "import math, scipy\n",
      "\n",
      "def CalcWeight(X1, X2, y, C, k, L):\n",
      "    w1=w2=0\n",
      "    \n",
      "    for ii in range(1, 10000):\n",
      "        new1 = w1 + k * 1/L * np.sum([y[i] * X1[i]*\n",
      "                                    (1 - 1/(1 + math.exp(-y[i]*(w1 * X1[i] + w2 * X2[i]\n",
      "                                                                )\n",
      "                                                         )\n",
      "                                            )\n",
      "                                     ) for i in range(y.size)])-k * C * w1\n",
      "        new2 = w2 + k * 1/L * np.sum([y[i] * X2[i]*\n",
      "                                    (1 - 1/(1 + math.exp(-y[i]*(w1 * X1[i] + w2 * X2[i]\n",
      "                                                                )\n",
      "                                                         )\n",
      "                                            )\n",
      "                                     ) for i in range(y.size)])-k * C * w2\n",
      "        if math.sqrt((new2-w2)**2+(new1-w1)**2) < 1e-5:\n",
      "            print('Break')\n",
      "            break\n",
      "        else:\n",
      "            w1 = new1\n",
      "            w2 = new2\n",
      "            \n",
      "    return [w1, w2]\n",
      "\n",
      "arr_weight = CalcWeight(X1, X2, y, 10.0, 0.1, len(y))"
     ],
     "language": "python",
     "metadata": {},
     "outputs": [
      {
       "output_type": "stream",
       "stream": "stdout",
       "text": [
        "Break\n"
       ]
      }
     ],
     "prompt_number": 73
    },
    {
     "cell_type": "code",
     "collapsed": false,
     "input": [
      "print arr_weight"
     ],
     "language": "python",
     "metadata": {},
     "outputs": [
      {
       "output_type": "stream",
       "stream": "stdout",
       "text": [
        "[0.028561965517012657, 0.024783655436404754]\n"
       ]
      }
     ],
     "prompt_number": 74
    },
    {
     "cell_type": "code",
     "collapsed": false,
     "input": [
      "a = []\n",
      "for n_samples in range(len(y)):\n",
      "    sigmoid = 1/(1+math.exp(-arr_weight[0]*X1[n_samples]-arr_weight[1]*X2[n_samples]))\n",
      "    a.append(sigmoid)"
     ],
     "language": "python",
     "metadata": {},
     "outputs": [],
     "prompt_number": 75
    },
    {
     "cell_type": "code",
     "collapsed": false,
     "input": [
      "auc2 = roc_auc_score(y, a)"
     ],
     "language": "python",
     "metadata": {},
     "outputs": [],
     "prompt_number": 76
    },
    {
     "cell_type": "code",
     "collapsed": false,
     "input": [
      "print auc1, auc2"
     ],
     "language": "python",
     "metadata": {},
     "outputs": [
      {
       "output_type": "stream",
       "stream": "stdout",
       "text": [
        "0.926857142857 0.936285714286\n"
       ]
      }
     ],
     "prompt_number": 77
    },
    {
     "cell_type": "code",
     "collapsed": false,
     "input": [],
     "language": "python",
     "metadata": {},
     "outputs": []
    }
   ],
   "metadata": {}
  }
 ]
}