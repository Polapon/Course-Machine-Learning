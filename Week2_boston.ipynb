{
 "metadata": {
  "name": "",
  "signature": "sha256:c40494701b55633a0d6be62d0763d03031ab6724bdcdacb2c5dbb0ed5ea4b2cd"
 },
 "nbformat": 3,
 "nbformat_minor": 0,
 "worksheets": [
  {
   "cells": [
    {
     "cell_type": "code",
     "collapsed": false,
     "input": [
      "import pandas as pd\n",
      "import numpy as np\n",
      "import sklearn\n",
      "from sklearn.datasets import load_boston\n",
      "\n",
      "boston = load_boston()\n",
      "print(boston.data.shape)"
     ],
     "language": "python",
     "metadata": {},
     "outputs": [
      {
       "output_type": "stream",
       "stream": "stdout",
       "text": [
        "(506, 13)\n"
       ]
      }
     ],
     "prompt_number": 26
    },
    {
     "cell_type": "code",
     "collapsed": false,
     "input": [
      "x, y = boston.data, boston.target"
     ],
     "language": "python",
     "metadata": {},
     "outputs": [],
     "prompt_number": 27
    },
    {
     "cell_type": "code",
     "collapsed": false,
     "input": [
      "x_scale = sklearn.preprocessing.scale(x)"
     ],
     "language": "python",
     "metadata": {},
     "outputs": [],
     "prompt_number": 28
    },
    {
     "cell_type": "code",
     "collapsed": false,
     "input": [
      "from sklearn import neighbors\n",
      "from sklearn.cross_validation import cross_val_score\n",
      "from sklearn.cross_validation import KFold\n",
      "\n",
      "n_neighbors = 5\n",
      "scores = list()\n",
      "kf = KFold(len(x_scale), n_folds=5, shuffle=True, random_state=42)\n",
      "knn = neighbors.KNeighborsRegressor(n_neighbors, weights='distance')\n",
      "\n",
      "for i in np.linspace(1, 11, num=20):\n",
      "    knn.p = i\n",
      "    scores_ = cross_val_score(knn, x_scale, y, cv=kf, scoring='mean_squared_error')\n",
      "    scores.append(np.mean(scores_))\n",
      "\n",
      "np.argmax(scores)+1, scores[np.argmax(scores)]"
     ],
     "language": "python",
     "metadata": {},
     "outputs": [
      {
       "metadata": {},
       "output_type": "pyout",
       "prompt_number": 35,
       "text": [
        "(1, -16.050208508436157)"
       ]
      }
     ],
     "prompt_number": 35
    },
    {
     "cell_type": "code",
     "collapsed": false,
     "input": [],
     "language": "python",
     "metadata": {},
     "outputs": []
    }
   ],
   "metadata": {}
  }
 ]
}